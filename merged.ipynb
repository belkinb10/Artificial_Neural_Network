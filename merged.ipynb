{
 "cells": [
  {
   "cell_type": "code",
   "execution_count": 9,
   "metadata": {
    "colab": {
     "base_uri": "https://localhost:8080/"
    },
    "id": "r03X1M-Z6_B3",
    "outputId": "467fdf0b-7200-4956-a8e0-06189f979f9b"
   },
   "outputs": [
    {
     "name": "stdout",
     "output_type": "stream",
     "text": [
      "Mounted at /content/drive\n"
     ]
    }
   ],
   "source": [
    "from google.colab import drive\n",
    "drive.mount('/content/drive')"
   ]
  },
  {
   "cell_type": "code",
   "execution_count": 38,
   "metadata": {
    "colab": {
     "base_uri": "https://localhost:8080/"
    },
    "id": "WB7m8zSj71E8",
    "outputId": "44d6b13f-3433-40d3-84ce-e6c3a4b2adcd"
   },
   "outputs": [
    {
     "data": {
      "text/plain": [
       "(                                                   0\n",
       " 0  0,0,2,2,2,2,2,2,1,1,1,0,1,0,1,0,0,2,2,2,1,2,2,...\n",
       " 1  0,0,1,2,2,2,0,2,2,2,2,0,2,0,2,2,2,2,1,2,2,1,2,...\n",
       " 2  0,1,2,2,2,2,0,2,1,1,1,0,1,0,0,0,0,2,2,2,1,2,2,...\n",
       " 3  1,0,2,2,2,2,0,2,1,2,1,0,1,0,1,2,2,2,0,2,2,0,2,...\n",
       " 4  0,0,2,2,2,2,0,1,1,1,1,0,1,1,2,2,2,2,2,2,2,2,2,...,\n",
       "                            0\n",
       " 0  HGDP00511,M,French.HO_PCA\n",
       " 1  HGDP00512,M,French.HO_PCA\n",
       " 2  HGDP00513,F,French.HO_PCA\n",
       " 3  HGDP00514,F,French.HO_PCA\n",
       " 4  HGDP00515,M,French.HO_PCA)"
      ]
     },
     "execution_count": 38,
     "metadata": {},
     "output_type": "execute_result"
    }
   ],
   "source": [
    "import numpy as np\n",
    "import pandas as pd\n",
    "from sklearn.decomposition import PCA\n",
    "from sklearn.preprocessing import StandardScaler\n",
    "import tensorflow as tf\n",
    "from tensorflow.keras.models import Sequential\n",
    "from tensorflow.keras.layers import Dense\n",
    "\n",
    "\n",
    "# Load the data\n",
    "geno_path = '/content/drive/MyDrive/geno_6'\n",
    "ind_path = '/content/drive/MyDrive/ind_6'\n",
    "\n",
    "# Assuming the files are in a tab-separated format, we'll load them using pandas\n",
    "geno = pd.read_csv(geno_path, sep='\\t', header=None)\n",
    "ind = pd.read_csv(ind_path, sep='\\t', header=None)\n",
    "\n",
    "# Display the first few rows of each dataset\n",
    "geno.head(), ind.head()"
   ]
  },
  {
   "cell_type": "markdown",
   "metadata": {
    "id": "epf5z4igGLRh"
   },
   "source": [
    "#Q A :\n",
    "The output of a neural network that we want to generate, with a given single intermediate layer\n",
    "In the following equation:\n",
    "𝑦̂ = 𝜎(𝑤1 ∗ 𝜎(𝑤2 ∗ 𝑥))\n",
    "where w1 is a weighting matrix that converts our data from its original feature dimension to\n",
    "The middle layer dimension middle_layer_dim , and converts the data in the middle layer to the dimensions of\n",
    "The last layer.\n",
    "σ is the sigmoid function.\n",
    "The purpose of this network is to perform classification by tagging. If so, what are the dimensions of w1, w2, y hat?"
   ]
  },
  {
   "cell_type": "code",
   "execution_count": 16,
   "metadata": {
    "id": "wTaIDOc16r74"
   },
   "outputs": [],
   "source": [
    "\n",
    "class NeuralNetwork:\n",
    "    def __init__(self, x, y, middle_layer_dim, learning_rate):\n",
    "        self.x = x\n",
    "        self.y = y\n",
    "        self.middle_layer_dim = middle_layer_dim\n",
    "        self.learning_rate = learning_rate\n",
    "\n",
    "        # Initialize weights\n",
    "        input_dim = x.shape[1]\n",
    "        output_dim = len(np.unique(y))\n",
    "\n",
    "        self.weights1 = np.random.randn(input_dim, middle_layer_dim)\n",
    "        self.weights2 = np.random.randn(middle_layer_dim, output_dim)\n",
    "\n",
    "        # Add bias terms if needed\n",
    "        self.bias1 = np.random.randn(middle_layer_dim)\n",
    "        self.bias2 = np.random.randn(output_dim)\n",
    "\n",
    "# Example usage\n",
    "# Assuming you have loaded your dataset into variables `geno` and `ind`\n",
    "x = geno.to_numpy()\n",
    "y = ind.to_numpy()\n",
    "nn = NeuralNetwork(x, y, middle_layer_dim=10, learning_rate=0.01)"
   ]
  },
  {
   "cell_type": "markdown",
   "metadata": {
    "id": "_VkjNtwUGUKR"
   },
   "source": [
    "#Q C:\n",
    "Add another operation to the init function so that in addition, it will initialize the weight vectors named\n",
    "1weights.self and 2-weights.self of the middle and last layer (to be updated in the training process) in dimensions\n",
    "the right ones. In addition, create another variable named output.self which is a one-dimensional vector of zeros\n",
    "The number of samples."
   ]
  },
  {
   "cell_type": "code",
   "execution_count": 17,
   "metadata": {
    "id": "g0jlAQNN845B"
   },
   "outputs": [],
   "source": [
    "\n",
    "class NeuralNetwork:\n",
    "    def __init__(self, x, y, middle_layer_dim, learning_rate):\n",
    "        self.x = x\n",
    "        self.y = y\n",
    "        self.middle_layer_dim = middle_layer_dim\n",
    "        self.learning_rate = learning_rate\n",
    "\n",
    "        # Dimensions\n",
    "        input_dim = x.shape[1]  # Number of features (p)\n",
    "        output_dim = len(np.unique(y))  # Number of unique labels (k)\n",
    "        num_samples = x.shape[0]  # Number of samples (n)\n",
    "\n",
    "        # Initialize weights\n",
    "        self.weights1 = np.random.randn(input_dim, middle_layer_dim)\n",
    "        self.weights2 = np.random.randn(middle_layer_dim, output_dim)\n",
    "\n",
    "        # Initialize bias terms\n",
    "        self.bias1 = np.random.randn(middle_layer_dim)\n",
    "        self.bias2 = np.random.randn(output_dim)\n",
    "\n",
    "        # Initialize weight vectors to be updated in the training process\n",
    "        self.self_weights1 = np.zeros((input_dim, middle_layer_dim))\n",
    "        self.self_weights2 = np.zeros((middle_layer_dim, output_dim))\n",
    "\n",
    "        # Initialize output variable as a one-dimensional vector of zeros with the number of samples\n",
    "        self.output = np.zeros(num_samples)\n",
    "\n",
    "# Example usage\n",
    "# Assuming you have loaded your dataset into variables `geno` and `ind`\n",
    "x = geno.to_numpy()\n",
    "y = ind.to_numpy()\n",
    "nn = NeuralNetwork(x, y, middle_layer_dim=10, learning_rate=0.01)"
   ]
  },
  {
   "cell_type": "markdown",
   "metadata": {
    "id": "-B3nXFoJGq2X"
   },
   "source": [
    "#Q D:\n",
    ". Outside the class, write a function called sigmoid, which receives input z and calculates:\n",
    "s(x) = 1/(1+E^-Z)\n",
    "When z = Wx / make sure the correct dimensions are returned!"
   ]
  },
  {
   "cell_type": "code",
   "execution_count": 18,
   "metadata": {
    "colab": {
     "base_uri": "https://localhost:8080/"
    },
    "id": "XJk7DoSnGv2a",
    "outputId": "7893ae59-db14-44b3-8ebc-2d125f5ea831"
   },
   "outputs": [
    {
     "name": "stdout",
     "output_type": "stream",
     "text": [
      "[0.5        0.88079708 0.26894142 0.95257413]\n"
     ]
    }
   ],
   "source": [
    "def sigmoid(z):\n",
    "    \"\"\"\n",
    "    Compute the sigmoid of z\n",
    "\n",
    "    Arguments:\n",
    "    z -- A scalar or numpy array of any size.\n",
    "\n",
    "    Return:\n",
    "    s -- sigmoid(z)\n",
    "    \"\"\"\n",
    "    s = 1 / (1 + np.exp(-z))\n",
    "    return s\n",
    "\n",
    "# Example usage\n",
    "# Assuming z is a numpy array or a scalar\n",
    "z = np.array([0, 2, -1, 3])\n",
    "sigmoid_output = sigmoid(z)\n",
    "print(sigmoid_output)"
   ]
  },
  {
   "cell_type": "markdown",
   "metadata": {
    "id": "LqZwKwlkI2vq"
   },
   "source": [
    "#Q E:\n",
    "Write a function inside the class called feedforward, which calculates the prediction of the network according to the existing weights (its purpose is to solve the equation from section B). she will use\n",
    "in 1-weights.self 2,weights.self, and x. Finally, the function will store this prediction in the output.self variable\n",
    "(Make sure the dimensions are the same). Please note: the values ​​of our labeling vector is binary, compared to the product of the sigmoid function. Binarize the sigmoid product, so that you finally get a vector of binary values ​​(0 or 1) which you will save in -output.self."
   ]
  },
  {
   "cell_type": "code",
   "execution_count": 69,
   "metadata": {
    "colab": {
     "base_uri": "https://localhost:8080/",
     "height": 889
    },
    "id": "o0lFsBnQI4l5",
    "outputId": "370658e8-0b5a-436e-a5fa-0ad30b4462a8"
   },
   "outputs": [
    {
     "name": "stdout",
     "output_type": "stream",
     "text": [
      "Processed geno shape: (85, 86570)\n",
      "Processed labels shape: (85,)\n",
      "Shape of x: (85, 86570)\n",
      "Shape of y: (85,)\n"
     ]
    },
    {
     "name": "stderr",
     "output_type": "stream",
     "text": [
      "<ipython-input-69-0738e4e79189>:8: RuntimeWarning: overflow encountered in exp\n",
      "  return 1 / (1 + np.exp(-z))\n"
     ]
    },
    {
     "name": "stdout",
     "output_type": "stream",
     "text": [
      "Matthews Correlation Coefficient (MCC): 0.00\n"
     ]
    },
    {
     "data": {
      "image/png": "[encoded data removed]",
      "text/plain": [
       "<Figure size 640x480 with 1 Axes>"
      ]
     },
     "metadata": {},
     "output_type": "display_data"
    },
    {
     "name": "stdout",
     "output_type": "stream",
     "text": [
      "Final output on test set: [[0]\n",
      " [0]\n",
      " [0]\n",
      " [0]\n",
      " [0]\n",
      " [0]\n",
      " [0]\n",
      " [0]\n",
      " [0]\n",
      " [0]\n",
      " [0]\n",
      " [0]\n",
      " [0]\n",
      " [0]\n",
      " [0]\n",
      " [0]\n",
      " [0]]\n"
     ]
    }
   ],
   "source": [
    "import numpy as np\n",
    "import pandas as pd\n",
    "from sklearn.model_selection import train_test_split\n",
    "from sklearn.metrics import matthews_corrcoef\n",
    "import matplotlib.pyplot as plt\n",
    "\n",
    "def sigmoid(z):\n",
    "    return 1 / (1 + np.exp(-z))\n",
    "\n",
    "def sigmoid_derivative(z):\n",
    "    return sigmoid(z) * (1 - sigmoid(z))\n",
    "\n",
    "class NeuralNetwork:\n",
    "    def __init__(self, x, y, middle_layer_dim, learning_rate):\n",
    "        self.x = self.preprocess_data(x)\n",
    "        self.y = self.preprocess_labels(y)\n",
    "        self.middle_layer_dim = middle_layer_dim\n",
    "        self.learning_rate = learning_rate\n",
    "\n",
    "        input_dim = self.x.shape[1]  # Number of features (p)\n",
    "        output_dim = 1  # Binary classification\n",
    "\n",
    "        # Initialize weights and biases\n",
    "        self.weights1 = np.random.randn(input_dim, middle_layer_dim)\n",
    "        self.weights2 = np.random.randn(middle_layer_dim, output_dim)\n",
    "        self.bias1 = np.random.randn(middle_layer_dim)\n",
    "        self.bias2 = np.random.randn(output_dim)\n",
    "\n",
    "    def preprocess_data(self, x):\n",
    "        if isinstance(x, pd.DataFrame):\n",
    "            processed_data = []\n",
    "            for row in x.values:\n",
    "                processed_row = []\n",
    "                for cell in row:\n",
    "                    try:\n",
    "                        processed_row.extend([float(value) for value in cell.split(',')])\n",
    "                    except ValueError:\n",
    "                        continue\n",
    "                if processed_row:\n",
    "                    processed_data.append(processed_row)\n",
    "            x = np.array(processed_data)\n",
    "        elif isinstance(x, np.ndarray) or isinstance(x, list):\n",
    "            x = np.array([np.array(row.split(','), dtype=float) if isinstance(row, str) else row for row in x])\n",
    "        return np.array(x, dtype=float)\n",
    "\n",
    "    def preprocess_labels(self, y):\n",
    "        if isinstance(y, pd.DataFrame) or isinstance(y, pd.Series):\n",
    "            y = y.iloc[:, -1]  # Assuming the last column contains the labels\n",
    "            y = y.apply(lambda label: 1 if 'French' in str(label) else 0).values  # Binarize labels\n",
    "        elif isinstance(y, np.ndarray) or isinstance(y, list):\n",
    "            y = np.array([1 if 'French' in str(label) else 0 for label in y])\n",
    "        return np.array(y, dtype=float)\n",
    "\n",
    "    def feedforward(self):\n",
    "        self.z1 = np.dot(self.x, self.weights1) + self.bias1\n",
    "        self.a1 = sigmoid(self.z1)\n",
    "        self.z2 = np.dot(self.a1, self.weights2) + self.bias2\n",
    "        self.a2 = sigmoid(self.z2)\n",
    "        self.output = (self.a2 > 0.5).astype(int)\n",
    "        return self.a2\n",
    "\n",
    "    def backpropagation(self):\n",
    "        error = self.a2 - self.y.reshape(-1, 1)\n",
    "        dz2 = error * sigmoid_derivative(self.z2)\n",
    "        dweights2 = np.dot(self.a1.T, dz2)\n",
    "        dbias2 = np.sum(dz2, axis=0)\n",
    "        dz1 = np.dot(dz2, self.weights2.T) * sigmoid_derivative(self.z1)\n",
    "        dweights1 = np.dot(self.x.T, dz1)\n",
    "        dbias1 = np.sum(dz1, axis=0)\n",
    "        return dweights1, dweights2, dbias1, dbias2\n",
    "\n",
    "    def train(self, simulations_n):\n",
    "        loss_track = np.zeros(simulations_n)\n",
    "\n",
    "        for i in range(simulations_n):\n",
    "            self.feedforward()\n",
    "            loss = np.sum((self.y.reshape(-1, 1) - self.a2) ** 2)\n",
    "            loss_track[i] = loss\n",
    "            dweights1, dweights2, dbias1, dbias2 = self.backpropagation()\n",
    "            self.weights1 -= self.learning_rate * dweights1\n",
    "            self.weights2 -= self.learning_rate * dweights2\n",
    "            self.bias1 -= self.learning_rate * dbias1\n",
    "            self.bias2 -= self.learning_rate * dbias2\n",
    "\n",
    "        return loss_track\n",
    "\n",
    "class train_NN(NeuralNetwork):\n",
    "    def __init__(self, x, y, middle_layer_dim, learning_rate, size_train):\n",
    "        self.size_train = size_train\n",
    "        # Debugging: Print shapes of x and y\n",
    "        print(f\"Shape of x: {x.shape}\")\n",
    "        print(f\"Shape of y: {y.shape}\")\n",
    "\n",
    "        x_train, x_test, y_train, y_test = train_test_split(x, y, train_size=size_train, random_state=42)\n",
    "        self.x_train, self.x_test = self.preprocess_data(x_train), self.preprocess_data(x_test)\n",
    "        self.y_train, self.y_test = self.preprocess_labels(y_train), self.preprocess_labels(y_test)\n",
    "        super().__init__(self.x_train, self.y_train, middle_layer_dim, learning_rate)\n",
    "\n",
    "    def train(self, simulations_n):\n",
    "        loss_track = np.zeros(simulations_n)\n",
    "\n",
    "        for i in range(simulations_n):\n",
    "            self.feedforward()\n",
    "            loss = np.sum((self.y.reshape(-1, 1) - self.a2) ** 2)\n",
    "            loss_track[i] = loss\n",
    "            dweights1, dweights2, dbias1, dbias2 = self.backpropagation()\n",
    "            self.weights1 -= self.learning_rate * dweights1\n",
    "            self.weights2 -= self.learning_rate * dweights2\n",
    "            self.bias1 -= self.learning_rate * dbias1\n",
    "            self.bias2 -= self.learning_rate * dbias2\n",
    "\n",
    "        return loss_track\n",
    "\n",
    "    def evaluate(self):\n",
    "        # Predict on the test set\n",
    "        self.x, self.y = self.x_test, self.y_test\n",
    "        self.feedforward()\n",
    "        mcc = matthews_corrcoef(self.y_test, self.output)\n",
    "        return mcc\n",
    "\n",
    "# Example usage\n",
    "# Assuming geno and labels are already loaded and preprocessed\n",
    "\n",
    "# Preprocess the data\n",
    "def preprocess_geno(geno_df):\n",
    "    processed_data = []\n",
    "    for row in geno_df.values:\n",
    "        processed_row = []\n",
    "        for cell in row:\n",
    "            try:\n",
    "                processed_row.extend([float(value) for value in cell.split(',')])\n",
    "            except ValueError:\n",
    "                continue\n",
    "        if processed_row:\n",
    "            processed_data.append(processed_row)\n",
    "    return np.array(processed_data)\n",
    "\n",
    "def preprocess_ind(ind_df):\n",
    "    return np.array([1 if 'French' in str(label) else 0 for label in ind_df.iloc[:, -1]])\n",
    "\n",
    "geno = preprocess_geno(geno)\n",
    "labels = preprocess_ind(ind)\n",
    "\n",
    "# Debugging: Print shapes of processed geno and labels\n",
    "print(f\"Processed geno shape: {geno.shape}\")\n",
    "print(f\"Processed labels shape: {labels.shape}\")\n",
    "\n",
    "# Initialize and train the neural network with train-test split\n",
    "nn = train_NN(geno, labels, middle_layer_dim=8, learning_rate=0.01, size_train=0.8)\n",
    "loss_track = nn.train(simulations_n=100)\n",
    "\n",
    "# Evaluate the model\n",
    "mcc = nn.evaluate()\n",
    "print(f\"Matthews Correlation Coefficient (MCC): {mcc:.2f}\")\n",
    "\n",
    "# Plot the loss track\n",
    "plt.plot(loss_track)\n",
    "plt.title('Loss Track Over Iterations')\n",
    "plt.xlabel('Iteration')\n",
    "plt.ylabel('Loss')\n",
    "plt.show()\n",
    "\n",
    "# Print the final output\n",
    "print(\"Final output on test set:\", nn.output)"
   ]
  },
  {
   "cell_type": "markdown",
   "metadata": {
    "id": "BvbQaTiLVqyA"
   },
   "source": [
    "#Q F:\n",
    "The simple loss function we will use is the sum of the squares of the error:\n",
    "𝐿 = ∑(𝑦𝑖 − 𝑦̂𝑖)^2\n",
    "Remember the descent-gradient principle, according to which we update the values ​​of the weights in a way\n",
    "Iterative with the help of the derivative function of the loss, when it tells us the direction in which we must update the values ​​of the weights in order to reduce the loss. Open and calculate the derivative of the loss function using the chain rule with respect to each vector of weights.\n",
    "(hint: the derivative of the sigmoid function)\n",
    "Write a function inside the class called backpropagation that performs the following actions:\n",
    "1. Calculates the value of the partial derivative dL / dw1, dL/dw2. Make sure that the dimensions of the derivative are equal to the dimensions of the weights"
   ]
  },
  {
   "cell_type": "code",
   "execution_count": 53,
   "metadata": {
    "id": "mxREZH1qWe69"
   },
   "outputs": [],
   "source": []
  },
  {
   "cell_type": "markdown",
   "metadata": {
    "id": "YEOjMMkzZ4FN"
   },
   "source": [
    "# Q G:\n",
    "Write a function inside the class named train, which receives an input of an integer named simulations_n and performs the following operations:\n",
    "1. Initializes a vector of zeros called loss_track, size simulations_n.\n",
    "2. Runs a for loop as simulations_n iterations, where in each iteration it activates the feedforward function that updates the prediction vector output.self according to the updated weights, followed by backpropagation that calculates and updates the weights as a function of the loss derivatives.\n",
    "Finally, the loss value will be stored in the loss_t vector"
   ]
  },
  {
   "cell_type": "code",
   "execution_count": 71,
   "metadata": {
    "colab": {
     "base_uri": "https://localhost:8080/"
    },
    "id": "AwW1B6yxaV5f",
    "outputId": "f0ee528a-e353-4350-8637-eed15d5f05cb"
   },
   "outputs": [
    {
     "name": "stdout",
     "output_type": "stream",
     "text": [
      "First few rows of geno_6 file:\n",
      "                                                   0\n",
      "0  0,0,2,2,2,2,2,2,1,1,1,0,1,0,1,0,0,2,2,2,1,2,2,...\n",
      "1  0,0,1,2,2,2,0,2,2,2,2,0,2,0,2,2,2,2,1,2,2,1,2,...\n",
      "2  0,1,2,2,2,2,0,2,1,1,1,0,1,0,0,0,0,2,2,2,1,2,2,...\n",
      "3  1,0,2,2,2,2,0,2,1,2,1,0,1,0,1,2,2,2,0,2,2,0,2,...\n",
      "4  0,0,2,2,2,2,0,1,1,1,1,0,1,1,2,2,2,2,2,2,2,2,2,...\n",
      "\n",
      "First few rows of ind_6 file:\n",
      "                           0\n",
      "0  HGDP00511,M,French.HO_PCA\n",
      "1  HGDP00512,M,French.HO_PCA\n",
      "2  HGDP00513,F,French.HO_PCA\n",
      "3  HGDP00514,F,French.HO_PCA\n",
      "4  HGDP00515,M,French.HO_PCA\n",
      "Type of labels: <class 'str'>\n",
      "First few labels: 0    HGDP00511,M,French.HO_PCA\n",
      "1    HGDP00512,M,French.HO_PCA\n",
      "2    HGDP00513,F,French.HO_PCA\n",
      "3    HGDP00514,F,French.HO_PCA\n",
      "4    HGDP00515,M,French.HO_PCA\n",
      "Name: 0, dtype: object\n",
      "Processed geno shape: (85, 86570)\n",
      "Processed labels shape: (85,)\n"
     ]
    },
    {
     "name": "stderr",
     "output_type": "stream",
     "text": [
      "<ipython-input-71-41ab6bab3703>:5: RuntimeWarning: overflow encountered in exp\n",
      "  return 1 / (1 + np.exp(-z))\n"
     ]
    },
    {
     "name": "stdout",
     "output_type": "stream",
     "text": [
      "Loss track: [5.29790839e+01 3.74385133e+01 2.00853811e+01 1.13272382e+01\n",
      " 7.33806844e+00 5.25583965e+00 4.05337011e+00 3.29605562e+00\n",
      " 2.76459699e+00 2.36529283e+00 2.06774947e+00 1.84075548e+00\n",
      " 1.65809903e+00 1.50718791e+00 1.37477290e+00 1.25753637e+00\n",
      " 1.16918347e+00 1.09253393e+00 1.02542769e+00 9.66201097e-01\n",
      " 9.13552848e-01 8.66451003e-01 8.24067115e-01 7.85728688e-01\n",
      " 7.50884304e-01 7.19077660e-01 6.89927958e-01 6.63114928e-01\n",
      " 6.38367231e-01 6.15453405e-01 5.94174709e-01 5.74359466e-01\n",
      " 5.55858586e-01 5.38542180e-01 5.22297216e-01 5.07026213e-01\n",
      " 4.92646431e-01 4.79088123e-01 4.66290533e-01 4.54197077e-01\n",
      " 4.42753068e-01 4.31906525e-01 4.21609666e-01 4.11819527e-01\n",
      " 4.02497758e-01 3.93610098e-01 3.85125807e-01 3.77017177e-01\n",
      " 3.69259114e-01 3.61828810e-01 3.54705459e-01 3.47870029e-01\n",
      " 3.41305064e-01 3.34994519e-01 3.28923612e-01 3.23078701e-01\n",
      " 3.17447172e-01 3.12017343e-01 3.06778377e-01 3.01720208e-01\n",
      " 2.96833470e-01 2.92109441e-01 2.87539981e-01 2.83117493e-01\n",
      " 2.78834871e-01 2.74685463e-01 2.70663035e-01 2.66761741e-01\n",
      " 2.62976089e-01 2.59300918e-01 2.55731369e-01 2.52262870e-01\n",
      " 2.48891108e-01 2.45612015e-01 2.42421749e-01 2.39316679e-01\n",
      " 2.36293373e-01 2.33348580e-01 2.30479221e-01 2.27682377e-01\n",
      " 2.24955279e-01 2.22295300e-01 2.19699941e-01 2.17166830e-01\n",
      " 2.14693708e-01 2.12278427e-01 2.09918941e-01 2.07613298e-01\n",
      " 2.05359639e-01 2.03156190e-01 2.01001257e-01 1.98893222e-01\n",
      " 1.96830540e-01 1.94811733e-01 1.92835386e-01 1.90900147e-01\n",
      " 1.89004718e-01 1.87147861e-01 1.85328383e-01 1.83545145e-01\n",
      " 1.81797052e-01 1.80083054e-01 1.78402142e-01 1.76753347e-01\n",
      " 1.75135738e-01 1.73548422e-01 1.71990536e-01 1.70461253e-01\n",
      " 1.68959775e-01 1.67485337e-01 1.66037198e-01 1.64614647e-01\n",
      " 1.63216998e-01 1.61843588e-01 1.60493779e-01 1.59166956e-01\n",
      " 1.57862524e-01 1.56579910e-01 1.55318560e-01 1.54077938e-01\n",
      " 1.52857526e-01 1.51656826e-01 1.50475353e-01 1.49312640e-01\n",
      " 1.48168234e-01 1.47041698e-01 1.45932607e-01 1.44840552e-01\n",
      " 1.43765135e-01 1.42705970e-01 1.41662686e-01 1.40634919e-01\n",
      " 1.39622320e-01 1.38624549e-01 1.37641275e-01 1.36672179e-01\n",
      " 1.35716950e-01 1.34775287e-01 1.33846896e-01 1.32931495e-01\n",
      " 1.32028806e-01 1.31138562e-01 1.30260502e-01 1.29394372e-01\n",
      " 1.28539927e-01 1.27696927e-01 1.26865139e-01 1.26044337e-01\n",
      " 1.25234300e-01 1.24434813e-01 1.23645669e-01 1.22866664e-01\n",
      " 1.22097599e-01 1.21338283e-01 1.20588527e-01 1.19848150e-01\n",
      " 1.19116971e-01 1.18394819e-01 1.17681524e-01 1.16976921e-01\n",
      " 1.16280849e-01 1.15593151e-01 1.14913674e-01 1.14242270e-01\n",
      " 1.13578791e-01 1.12923098e-01 1.12275049e-01 1.11634512e-01\n",
      " 1.11001352e-01 1.10375441e-01 1.09756654e-01 1.09144867e-01\n",
      " 1.08539960e-01 1.07941815e-01 1.07350318e-01 1.06765356e-01\n",
      " 1.06186821e-01 1.05614605e-01 1.05048602e-01 1.04488712e-01\n",
      " 1.03934833e-01 1.03386867e-01 1.02844720e-01 1.02308297e-01\n",
      " 1.01777506e-01 1.01252258e-01 1.00732464e-01 1.00218040e-01\n",
      " 9.97089009e-02 9.92049642e-02 9.87061492e-02 9.82123773e-02\n",
      " 9.77235709e-02 9.72396544e-02 9.67605537e-02 9.62861959e-02\n",
      " 9.58165101e-02 9.53514262e-02 9.48908761e-02 9.44347927e-02\n",
      " 9.39831103e-02 9.35357646e-02 9.30926924e-02 9.26538319e-02\n",
      " 9.22191223e-02 9.17885042e-02 9.13619192e-02 9.09393101e-02\n",
      " 9.05206207e-02 9.01057959e-02 8.96947816e-02 8.92875249e-02\n",
      " 8.88839736e-02 8.84840768e-02 8.80877842e-02 8.76950467e-02\n",
      " 8.73058160e-02 8.69200445e-02 8.65376858e-02 8.61586942e-02\n",
      " 8.57830246e-02 8.54106331e-02 8.50414763e-02 8.46755116e-02\n",
      " 8.43126973e-02 8.39529923e-02 8.35963563e-02 8.32427496e-02\n",
      " 8.28921332e-02 8.25444689e-02 8.21997191e-02 8.18578467e-02\n",
      " 8.15188155e-02 8.11825896e-02 8.08491340e-02 8.05184141e-02\n",
      " 8.01903959e-02 7.98650461e-02 7.95423318e-02 7.92222207e-02\n",
      " 7.89046810e-02 7.85896815e-02 7.82771914e-02 7.79671806e-02\n",
      " 7.76596191e-02 7.73544778e-02 7.70517279e-02 7.67513410e-02\n",
      " 7.64532892e-02 7.61575450e-02 7.58640815e-02 7.55728720e-02\n",
      " 7.52838905e-02 7.49971109e-02 7.47125082e-02 7.44300571e-02\n",
      " 7.41497332e-02 7.38715122e-02 7.35953703e-02 7.33212840e-02\n",
      " 7.30492301e-02 7.27791859e-02 7.25111289e-02 7.22450370e-02\n",
      " 7.19808886e-02 7.17186620e-02 7.14583361e-02 7.11998903e-02\n",
      " 7.09433038e-02 7.06885566e-02 7.04356286e-02 7.01845003e-02\n",
      " 6.99351523e-02 6.96875656e-02 6.94417213e-02 6.91976009e-02\n",
      " 6.89551861e-02 6.87144590e-02 6.84754018e-02 6.82379970e-02\n",
      " 6.80022274e-02 6.77680758e-02 6.75355256e-02 6.73045603e-02\n",
      " 6.70751634e-02 6.68473189e-02 6.66210110e-02 6.63962239e-02\n",
      " 6.61729423e-02 6.59511509e-02 6.57308347e-02 6.55119788e-02\n",
      " 6.52945688e-02 6.50785900e-02 6.48640284e-02 6.46508698e-02\n",
      " 6.44391004e-02 6.42287065e-02 6.40196747e-02 6.38119916e-02\n",
      " 6.36056440e-02 6.34006191e-02 6.31969039e-02 6.29944859e-02\n",
      " 6.27933526e-02 6.25934916e-02 6.23948909e-02 6.21975383e-02\n",
      " 6.20014222e-02 6.18065306e-02 6.16128522e-02 6.14203755e-02\n",
      " 6.12290893e-02 6.10389823e-02 6.08500437e-02 6.06622625e-02\n",
      " 6.04756282e-02 6.02901300e-02 6.01057575e-02 5.99225005e-02\n",
      " 5.97403487e-02 5.95592920e-02 5.93793205e-02 5.92004244e-02\n",
      " 5.90225939e-02 5.88458195e-02 5.86700917e-02 5.84954010e-02\n",
      " 5.83217383e-02 5.81490944e-02 5.79774602e-02 5.78068269e-02\n",
      " 5.76371855e-02 5.74685275e-02 5.73008440e-02 5.71341267e-02\n",
      " 5.69683671e-02 5.68035569e-02 5.66396877e-02 5.64767516e-02\n",
      " 5.63147404e-02 5.61536462e-02 5.59934611e-02 5.58341774e-02\n",
      " 5.56757874e-02 5.55182833e-02 5.53616579e-02 5.52059035e-02\n",
      " 5.50510129e-02 5.48969787e-02 5.47437938e-02 5.45914511e-02\n",
      " 5.44399435e-02 5.42892642e-02 5.41394060e-02 5.39903624e-02\n",
      " 5.38421265e-02 5.36946917e-02 5.35480513e-02 5.34021990e-02\n",
      " 5.32571281e-02 5.31128323e-02 5.29693053e-02 5.28265408e-02\n",
      " 5.26845326e-02 5.25432747e-02 5.24027609e-02 5.22629852e-02\n",
      " 5.21239417e-02 5.19856245e-02 5.18480278e-02 5.17111458e-02\n",
      " 5.15749727e-02 5.14395031e-02 5.13047311e-02 5.11706514e-02\n",
      " 5.10372584e-02 5.09045466e-02 5.07725107e-02 5.06411453e-02\n",
      " 5.05104452e-02 5.03804050e-02 5.02510197e-02 5.01222840e-02\n",
      " 4.99941929e-02 4.98667414e-02 4.97399243e-02 4.96137367e-02\n",
      " 4.94881738e-02 4.93632305e-02 4.92389022e-02 4.91151839e-02\n",
      " 4.89920710e-02 4.88695586e-02 4.87476421e-02 4.86263169e-02\n",
      " 4.85055783e-02 4.83854218e-02 4.82658427e-02 4.81468366e-02\n",
      " 4.80283990e-02 4.79105254e-02 4.77932114e-02 4.76764526e-02\n",
      " 4.75602446e-02 4.74445831e-02 4.73294637e-02 4.72148822e-02\n",
      " 4.71008342e-02 4.69873155e-02 4.68743220e-02 4.67618492e-02\n",
      " 4.66498931e-02 4.65384495e-02 4.64275142e-02 4.63170830e-02\n",
      " 4.62071518e-02 4.60977165e-02 4.59887729e-02 4.58803170e-02\n",
      " 4.57723447e-02 4.56648518e-02 4.55578342e-02 4.54512880e-02\n",
      " 4.53452089e-02 4.52395930e-02 4.51344362e-02 4.50297344e-02\n",
      " 4.49254835e-02 4.48216796e-02 4.47183185e-02 4.46153963e-02\n",
      " 4.45129088e-02 4.44108521e-02 4.43092222e-02 4.42080150e-02\n",
      " 4.41072266e-02 4.40068530e-02 4.39068904e-02 4.38073348e-02\n",
      " 4.37081823e-02 4.36094293e-02 4.35110720e-02 4.34131067e-02\n",
      " 4.33155298e-02 4.32183380e-02 4.31215278e-02 4.30250961e-02\n",
      " 4.29290398e-02 4.28333559e-02 4.27380420e-02 4.26430953e-02\n",
      " 4.25485137e-02 4.24542952e-02 4.23604381e-02 4.22669410e-02\n",
      " 4.21738026e-02 4.20810222e-02 4.19885994e-02 4.18965341e-02\n",
      " 4.18048263e-02 4.17134767e-02 4.16224862e-02 4.15318559e-02\n",
      " 4.14415872e-02 4.13516820e-02 4.12621419e-02 4.11729693e-02\n",
      " 4.10841661e-02 4.09957348e-02 4.09076775e-02 4.08199964e-02\n",
      " 4.07326938e-02 4.06457714e-02 4.05592312e-02 4.04730747e-02\n",
      " 4.03873030e-02 4.03019172e-02 4.02169179e-02 4.01323053e-02\n",
      " 4.00480793e-02 3.99642396e-02 3.98807854e-02 3.97977156e-02\n",
      " 3.97150287e-02 3.96327231e-02 3.95507968e-02 3.94692476e-02\n",
      " 3.93880731e-02 3.93072706e-02 3.92268373e-02 3.91467703e-02\n",
      " 3.90670667e-02 3.89877231e-02 3.89087365e-02 3.88301035e-02\n",
      " 3.87518209e-02 3.86738853e-02 3.85962935e-02 3.85190421e-02\n",
      " 3.84421278e-02 3.83655475e-02 3.82892977e-02 3.82133755e-02\n",
      " 3.81377775e-02 3.80625008e-02 3.79875422e-02 3.79128989e-02\n",
      " 3.78385678e-02 3.77645461e-02 3.76908309e-02 3.76174196e-02\n",
      " 3.75443094e-02 3.74714977e-02 3.73989819e-02 3.73267594e-02\n",
      " 3.72548278e-02 3.71831847e-02 3.71118277e-02 3.70407544e-02\n",
      " 3.69699626e-02 3.68994501e-02 3.68292146e-02 3.67592541e-02\n",
      " 3.66895665e-02 3.66201496e-02 3.65510015e-02 3.64821201e-02\n",
      " 3.64135036e-02 3.63451501e-02 3.62770576e-02 3.62092244e-02\n",
      " 3.61416485e-02 3.60743284e-02 3.60072621e-02 3.59404479e-02\n",
      " 3.58738843e-02 3.58075695e-02 3.57415018e-02 3.56756798e-02\n",
      " 3.56101016e-02 3.55447659e-02 3.54796711e-02 3.54148155e-02\n",
      " 3.53501978e-02 3.52858164e-02 3.52216699e-02 3.51577568e-02\n",
      " 3.50940758e-02 3.50306253e-02 3.49674040e-02 3.49044105e-02\n",
      " 3.48416435e-02 3.47791016e-02 3.47167835e-02 3.46546879e-02\n",
      " 3.45928135e-02 3.45311590e-02 3.44697231e-02 3.44085045e-02\n",
      " 3.43475021e-02 3.42867146e-02 3.42261408e-02 3.41657794e-02\n",
      " 3.41056294e-02 3.40456894e-02 3.39859584e-02 3.39264351e-02\n",
      " 3.38671184e-02 3.38080073e-02 3.37491005e-02 3.36903969e-02\n",
      " 3.36318955e-02 3.35735952e-02 3.35154948e-02 3.34575932e-02\n",
      " 3.33998895e-02 3.33423826e-02 3.32850713e-02 3.32279547e-02\n",
      " 3.31710318e-02 3.31143015e-02 3.30577628e-02 3.30014146e-02\n",
      " 3.29452561e-02 3.28892862e-02 3.28335039e-02 3.27779083e-02\n",
      " 3.27224984e-02 3.26672732e-02 3.26122318e-02 3.25573732e-02\n",
      " 3.25026965e-02 3.24482009e-02 3.23938852e-02 3.23397488e-02\n",
      " 3.22857905e-02 3.22320096e-02 3.21784052e-02 3.21249762e-02\n",
      " 3.20717220e-02 3.20186416e-02 3.19657341e-02 3.19129987e-02\n",
      " 3.18604345e-02 3.18080407e-02 3.17558164e-02 3.17037608e-02\n",
      " 3.16518730e-02 3.16001523e-02 3.15485978e-02 3.14972088e-02\n",
      " 3.14459843e-02 3.13949236e-02 3.13440259e-02 3.12932905e-02\n",
      " 3.12427164e-02 3.11923030e-02 3.11420495e-02 3.10919551e-02\n",
      " 3.10420190e-02 3.09922405e-02 3.09426188e-02 3.08931532e-02\n",
      " 3.08438429e-02 3.07946872e-02 3.07456854e-02 3.06968368e-02\n",
      " 3.06481405e-02 3.05995959e-02 3.05512023e-02 3.05029590e-02\n",
      " 3.04548652e-02 3.04069203e-02 3.03591236e-02 3.03114744e-02\n",
      " 3.02639719e-02 3.02166155e-02 3.01694046e-02 3.01223384e-02\n",
      " 3.00754164e-02 3.00286377e-02 2.99820018e-02 2.99355080e-02\n",
      " 2.98891556e-02 2.98429441e-02 2.97968727e-02 2.97509408e-02\n",
      " 2.97051479e-02 2.96594931e-02 2.96139760e-02 2.95685959e-02\n",
      " 2.95233522e-02 2.94782442e-02 2.94332714e-02 2.93884331e-02\n",
      " 2.93437287e-02 2.92991577e-02 2.92547195e-02 2.92104133e-02\n",
      " 2.91662387e-02 2.91221951e-02 2.90782819e-02 2.90344984e-02\n",
      " 2.89908442e-02 2.89473187e-02 2.89039212e-02 2.88606512e-02\n",
      " 2.88175082e-02 2.87744916e-02 2.87316009e-02 2.86888354e-02\n",
      " 2.86461947e-02 2.86036781e-02 2.85612852e-02 2.85190154e-02\n",
      " 2.84768682e-02 2.84348430e-02 2.83929394e-02 2.83511567e-02\n",
      " 2.83094945e-02 2.82679522e-02 2.82265294e-02 2.81852254e-02\n",
      " 2.81440399e-02 2.81029722e-02 2.80620219e-02 2.80211885e-02\n",
      " 2.79804715e-02 2.79398704e-02 2.78993846e-02 2.78590138e-02\n",
      " 2.78187573e-02 2.77786148e-02 2.77385858e-02 2.76986696e-02\n",
      " 2.76588660e-02 2.76191744e-02 2.75795943e-02 2.75401253e-02\n",
      " 2.75007669e-02 2.74615186e-02 2.74223800e-02 2.73833506e-02\n",
      " 2.73444300e-02 2.73056176e-02 2.72669132e-02 2.72283161e-02\n",
      " 2.71898260e-02 2.71514425e-02 2.71131650e-02 2.70749931e-02\n",
      " 2.70369264e-02 2.69989646e-02 2.69611070e-02 2.69233534e-02\n",
      " 2.68857032e-02 2.68481561e-02 2.68107116e-02 2.67733694e-02\n",
      " 2.67361290e-02 2.66989899e-02 2.66619518e-02 2.66250143e-02\n",
      " 2.65881769e-02 2.65514393e-02 2.65148010e-02 2.64782616e-02\n",
      " 2.64418208e-02 2.64054782e-02 2.63692333e-02 2.63330857e-02\n",
      " 2.62970352e-02 2.62610812e-02 2.62252233e-02 2.61894613e-02\n",
      " 2.61537948e-02 2.61182232e-02 2.60827464e-02 2.60473638e-02\n",
      " 2.60120751e-02 2.59768800e-02 2.59417780e-02 2.59067689e-02\n",
      " 2.58718522e-02 2.58370275e-02 2.58022946e-02 2.57676530e-02\n",
      " 2.57331024e-02 2.56986425e-02 2.56642728e-02 2.56299930e-02\n",
      " 2.55958028e-02 2.55617019e-02 2.55276898e-02 2.54937662e-02\n",
      " 2.54599309e-02 2.54261833e-02 2.53925233e-02 2.53589505e-02\n",
      " 2.53254644e-02 2.52920649e-02 2.52587515e-02 2.52255240e-02\n",
      " 2.51923819e-02 2.51593250e-02 2.51263530e-02 2.50934655e-02\n",
      " 2.50606621e-02 2.50279427e-02 2.49953068e-02 2.49627541e-02\n",
      " 2.49302843e-02 2.48978972e-02 2.48655923e-02 2.48333694e-02\n",
      " 2.48012282e-02 2.47691683e-02 2.47371895e-02 2.47052914e-02\n",
      " 2.46734737e-02 2.46417362e-02 2.46100785e-02 2.45785004e-02\n",
      " 2.45470015e-02 2.45155815e-02 2.44842402e-02 2.44529773e-02\n",
      " 2.44217924e-02 2.43906852e-02 2.43596556e-02 2.43287031e-02\n",
      " 2.42978275e-02 2.42670286e-02 2.42363060e-02 2.42056594e-02\n",
      " 2.41750887e-02 2.41445934e-02 2.41141733e-02 2.40838282e-02\n",
      " 2.40535577e-02 2.40233616e-02 2.39932397e-02 2.39631915e-02\n",
      " 2.39332170e-02 2.39033158e-02 2.38734876e-02 2.38437322e-02\n",
      " 2.38140492e-02 2.37844386e-02 2.37548999e-02 2.37254329e-02\n",
      " 2.36960374e-02 2.36667131e-02 2.36374598e-02 2.36082771e-02\n",
      " 2.35791649e-02 2.35501229e-02 2.35211507e-02 2.34922483e-02\n",
      " 2.34634153e-02 2.34346515e-02 2.34059566e-02 2.33773304e-02\n",
      " 2.33487726e-02 2.33202831e-02 2.32918615e-02 2.32635076e-02\n",
      " 2.32352211e-02 2.32070019e-02 2.31788497e-02 2.31507643e-02\n",
      " 2.31227454e-02 2.30947928e-02 2.30669062e-02 2.30390854e-02\n",
      " 2.30113303e-02 2.29836405e-02 2.29560158e-02 2.29284560e-02\n",
      " 2.29009609e-02 2.28735302e-02 2.28461638e-02 2.28188613e-02\n",
      " 2.27916227e-02 2.27644476e-02 2.27373358e-02 2.27102871e-02\n",
      " 2.26833014e-02 2.26563783e-02 2.26295176e-02 2.26027192e-02\n",
      " 2.25759828e-02 2.25493083e-02 2.25226953e-02 2.24961437e-02\n",
      " 2.24696533e-02 2.24432239e-02 2.24168552e-02 2.23905471e-02\n",
      " 2.23642993e-02 2.23381117e-02 2.23119840e-02 2.22859160e-02\n",
      " 2.22599076e-02 2.22339584e-02 2.22080684e-02 2.21822373e-02\n",
      " 2.21564649e-02 2.21307510e-02 2.21050955e-02 2.20794981e-02\n",
      " 2.20539586e-02 2.20284768e-02 2.20030526e-02 2.19776857e-02\n",
      " 2.19523760e-02 2.19271233e-02 2.19019273e-02 2.18767879e-02\n",
      " 2.18517048e-02 2.18266780e-02 2.18017072e-02 2.17767922e-02\n",
      " 2.17519329e-02 2.17271290e-02 2.17023804e-02 2.16776869e-02\n",
      " 2.16530483e-02 2.16284644e-02 2.16039350e-02 2.15794601e-02\n",
      " 2.15550393e-02 2.15306725e-02 2.15063595e-02 2.14821002e-02\n",
      " 2.14578943e-02 2.14337418e-02 2.14096423e-02 2.13855959e-02\n",
      " 2.13616022e-02 2.13376611e-02 2.13137724e-02 2.12899360e-02\n",
      " 2.12661517e-02 2.12424193e-02 2.12187386e-02 2.11951095e-02\n",
      " 2.11715319e-02 2.11480055e-02 2.11245302e-02 2.11011058e-02\n",
      " 2.10777321e-02 2.10544091e-02 2.10311365e-02 2.10079141e-02\n",
      " 2.09847418e-02 2.09616195e-02 2.09385470e-02 2.09155241e-02\n",
      " 2.08925506e-02 2.08696265e-02 2.08467515e-02 2.08239255e-02\n",
      " 2.08011483e-02 2.07784198e-02 2.07557398e-02 2.07331082e-02\n",
      " 2.07105248e-02 2.06879895e-02 2.06655021e-02 2.06430624e-02\n",
      " 2.06206704e-02 2.05983258e-02 2.05760285e-02 2.05537784e-02\n",
      " 2.05315753e-02 2.05094190e-02 2.04873095e-02 2.04652465e-02\n",
      " 2.04432299e-02 2.04212597e-02 2.03993355e-02 2.03774574e-02\n",
      " 2.03556251e-02 2.03338384e-02 2.03120974e-02 2.02904018e-02\n",
      " 2.02687514e-02 2.02471462e-02 2.02255859e-02 2.02040706e-02\n",
      " 2.01825999e-02 2.01611738e-02 2.01397922e-02 2.01184549e-02\n",
      " 2.00971617e-02 2.00759125e-02 2.00547073e-02 2.00335458e-02\n",
      " 2.00124279e-02 1.99913536e-02 1.99703225e-02 1.99493348e-02\n",
      " 1.99283901e-02 1.99074883e-02 1.98866294e-02 1.98658132e-02\n",
      " 1.98450396e-02 1.98243084e-02 1.98036195e-02 1.97829728e-02\n",
      " 1.97623681e-02 1.97418054e-02 1.97212845e-02 1.97008052e-02\n",
      " 1.96803675e-02 1.96599712e-02 1.96396162e-02 1.96193024e-02\n",
      " 1.95990296e-02 1.95787978e-02 1.95586067e-02 1.95384564e-02\n",
      " 1.95183465e-02 1.94982772e-02 1.94782481e-02 1.94582592e-02\n",
      " 1.94383105e-02 1.94184016e-02 1.93985326e-02 1.93787033e-02\n",
      " 1.93589136e-02 1.93391634e-02 1.93194526e-02 1.92997810e-02\n",
      " 1.92801485e-02 1.92605551e-02 1.92410005e-02 1.92214848e-02]\n",
      "Final output: [[0]\n",
      " [0]\n",
      " [0]\n",
      " [0]\n",
      " [0]\n",
      " [0]\n",
      " [0]\n",
      " [0]\n",
      " [0]\n",
      " [0]\n",
      " [0]\n",
      " [0]\n",
      " [0]\n",
      " [0]\n",
      " [0]\n",
      " [0]\n",
      " [0]\n",
      " [0]\n",
      " [0]\n",
      " [0]\n",
      " [0]\n",
      " [0]\n",
      " [0]\n",
      " [0]\n",
      " [0]\n",
      " [0]\n",
      " [0]\n",
      " [0]\n",
      " [0]\n",
      " [0]\n",
      " [0]\n",
      " [0]\n",
      " [0]\n",
      " [0]\n",
      " [0]\n",
      " [0]\n",
      " [0]\n",
      " [0]\n",
      " [0]\n",
      " [0]\n",
      " [0]\n",
      " [0]\n",
      " [0]\n",
      " [0]\n",
      " [0]\n",
      " [0]\n",
      " [0]\n",
      " [0]\n",
      " [0]\n",
      " [0]\n",
      " [0]\n",
      " [0]\n",
      " [0]\n",
      " [0]\n",
      " [0]\n",
      " [0]\n",
      " [0]\n",
      " [0]\n",
      " [0]\n",
      " [0]\n",
      " [0]\n",
      " [0]\n",
      " [0]\n",
      " [0]\n",
      " [0]\n",
      " [0]\n",
      " [0]\n",
      " [0]\n",
      " [0]\n",
      " [0]\n",
      " [0]\n",
      " [0]\n",
      " [0]\n",
      " [0]\n",
      " [0]\n",
      " [0]\n",
      " [0]\n",
      " [0]\n",
      " [0]\n",
      " [0]\n",
      " [0]\n",
      " [0]\n",
      " [0]\n",
      " [0]\n",
      " [0]]\n"
     ]
    }
   ],
   "source": [
    "def sigmoid(z):\n",
    "    return 1 / (1 + np.exp(-z))\n",
    "\n",
    "def sigmoid_derivative(z):\n",
    "    return sigmoid(z) * (1 - sigmoid(z))\n",
    "\n",
    "class NeuralNetwork:\n",
    "    def __init__(self, x, y, middle_layer_dim, learning_rate):\n",
    "        self.x = self.preprocess_data(x)\n",
    "        self.y = self.preprocess_labels(y)\n",
    "        self.middle_layer_dim = middle_layer_dim\n",
    "        self.learning_rate = learning_rate\n",
    "\n",
    "        input_dim = self.x.shape[1]  # Number of features (p)\n",
    "        output_dim = 1  # Binary classification\n",
    "\n",
    "        # Initialize weights and biases\n",
    "        self.weights1 = np.random.randn(input_dim, middle_layer_dim)\n",
    "        self.weights2 = np.random.randn(middle_layer_dim, output_dim)\n",
    "        self.bias1 = np.random.randn(middle_layer_dim)\n",
    "        self.bias2 = np.random.randn(output_dim)\n",
    "\n",
    "    def preprocess_data(self, x):\n",
    "        if isinstance(x, pd.DataFrame):\n",
    "            processed_data = []\n",
    "            for row in x.values:\n",
    "                processed_row = []\n",
    "                for cell in row:\n",
    "                    try:\n",
    "                        processed_row.extend([float(value) for value in cell.split(',')])\n",
    "                    except ValueError:\n",
    "                        continue\n",
    "                if processed_row:\n",
    "                    processed_data.append(processed_row)\n",
    "            x = np.array(processed_data)\n",
    "        elif isinstance(x, np.ndarray) or isinstance(x, list):\n",
    "            x = np.array([np.array(row.split(','), dtype=float) if isinstance(row, str) else row for row in x])\n",
    "        return np.array(x, dtype=float)\n",
    "\n",
    "    def preprocess_labels(self, y):\n",
    "        if isinstance(y, pd.DataFrame) or isinstance(y, pd.Series):\n",
    "            y = y.iloc[:, -1]  # Assuming the last column contains the labels\n",
    "            y = y.apply(lambda label: 1 if 'French' in str(label) else 0).values  # Binarize labels\n",
    "        elif isinstance(y, np.ndarray) or isinstance(y, list):\n",
    "            y = np.array([1 if 'French' in str(label) else 0 for label in y])\n",
    "        return np.array(y, dtype=float)\n",
    "\n",
    "    def feedforward(self):\n",
    "        self.z1 = np.dot(self.x, self.weights1) + self.bias1\n",
    "        self.a1 = sigmoid(self.z1)\n",
    "        self.z2 = np.dot(self.a1, self.weights2) + self.bias2\n",
    "        self.a2 = sigmoid(self.z2)\n",
    "        self.output = (self.a2 > 0.5).astype(int)\n",
    "        return self.a2\n",
    "\n",
    "    def backpropagation(self):\n",
    "        error = self.a2 - self.y.reshape(-1, 1)\n",
    "        dz2 = error * sigmoid_derivative(self.z2)\n",
    "        dweights2 = np.dot(self.a1.T, dz2)\n",
    "        dbias2 = np.sum(dz2, axis=0)\n",
    "        dz1 = np.dot(dz2, self.weights2.T) * sigmoid_derivative(self.z1)\n",
    "        dweights1 = np.dot(self.x.T, dz1)\n",
    "        dbias1 = np.sum(dz1, axis=0)\n",
    "        return dweights1, dweights2, dbias1, dbias2\n",
    "\n",
    "    def train(self, simulations_n):\n",
    "        loss_track = np.zeros(simulations_n)\n",
    "\n",
    "        for i in range(simulations_n):\n",
    "            self.feedforward()\n",
    "            loss = np.sum((self.y.reshape(-1, 1) - self.a2) ** 2)\n",
    "            loss_track[i] = loss\n",
    "            dweights1, dweights2, dbias1, dbias2 = self.backpropagation()\n",
    "            self.weights1 -= self.learning_rate * dweights1\n",
    "            self.weights2 -= self.learning_rate * dweights2\n",
    "            self.bias1 -= self.learning_rate * dbias1\n",
    "            self.bias2 -= self.learning_rate * dbias2\n",
    "\n",
    "        return loss_track\n",
    "\n",
    "\n",
    "# Assuming the files are in a tab-separated format\n",
    "geno = pd.read_csv(geno_path, sep='\\t', header=None)\n",
    "ind = pd.read_csv(ind_path, sep='\\t', header=None)\n",
    "\n",
    "# Inspect the raw content of the files\n",
    "print(\"First few rows of geno_6 file:\")\n",
    "print(geno.head())\n",
    "\n",
    "print(\"\\nFirst few rows of ind_6 file:\")\n",
    "print(ind.head())\n",
    "\n",
    "# Preprocess the data\n",
    "def preprocess_geno(geno_df):\n",
    "    processed_data = []\n",
    "    for row in geno_df.values:\n",
    "        processed_row = []\n",
    "        for cell in row:\n",
    "            try:\n",
    "                processed_row.extend([float(value) for value in cell.split(',')])\n",
    "            except ValueError:\n",
    "                continue\n",
    "        if processed_row:\n",
    "            processed_data.append(processed_row)\n",
    "    return np.array(processed_data)\n",
    "\n",
    "def preprocess_ind(ind_df):\n",
    "    # Debugging: Print the type and content of the labels\n",
    "    print(\"Type of labels:\", type(ind_df.iloc[:, -1][0]))\n",
    "    print(\"First few labels:\", ind_df.iloc[:, -1].head())\n",
    "    return np.array([1 if 'French' in str(label) else 0 for label in ind_df.iloc[:, -1]])\n",
    "\n",
    "geno = preprocess_geno(geno)\n",
    "labels = preprocess_ind(ind)\n",
    "\n",
    "print(f\"Processed geno shape: {geno.shape}\")\n",
    "print(f\"Processed labels shape: {labels.shape}\")\n",
    "\n",
    "# Initialize and train the neural network\n",
    "nn = NeuralNetwork(geno, labels, middle_layer_dim=10, learning_rate=0.01)\n",
    "loss_track = nn.train(simulations_n=1000)\n",
    "\n",
    "# Print the loss track and final output\n",
    "print(\"Loss track:\", loss_track)\n",
    "print(\"Final output:\", nn.output)"
   ]
  },
  {
   "cell_type": "markdown",
   "metadata": {
    "id": "tmof4UGocgXz"
   },
   "source": [
    "#Q H:\n",
    "Now we want to train the neural network on the data matrix with the values\n",
    ".hidden_layer_dim = 8, n_simulations = 100, learning_rate = 0.01\n",
    "Show plot of loss_track. Are you satisfied with your training method?"
   ]
  },
  {
   "cell_type": "code",
   "execution_count": 61,
   "metadata": {
    "colab": {
     "base_uri": "https://localhost:8080/",
     "height": 1000
    },
    "id": "BoezkYwFcRWH",
    "outputId": "1fe3f5c6-b4e3-4f59-a333-22aaa8ef52d1"
   },
   "outputs": [
    {
     "data": {
      "image/png": "[encoded data removed]",
      "text/plain": [
       "<Figure size 640x480 with 1 Axes>"
      ]
     },
     "metadata": {},
     "output_type": "display_data"
    },
    {
     "name": "stdout",
     "output_type": "stream",
     "text": [
      "Final output: [[0]\n",
      " [0]\n",
      " [0]\n",
      " [0]\n",
      " [0]\n",
      " [0]\n",
      " [0]\n",
      " [0]\n",
      " [0]\n",
      " [0]\n",
      " [0]\n",
      " [0]\n",
      " [0]\n",
      " [0]\n",
      " [0]\n",
      " [0]\n",
      " [0]\n",
      " [0]\n",
      " [0]\n",
      " [0]\n",
      " [0]\n",
      " [0]\n",
      " [0]\n",
      " [0]\n",
      " [0]\n",
      " [0]\n",
      " [0]\n",
      " [0]\n",
      " [0]\n",
      " [0]\n",
      " [0]\n",
      " [0]\n",
      " [0]\n",
      " [0]\n",
      " [0]\n",
      " [0]\n",
      " [0]\n",
      " [0]\n",
      " [0]\n",
      " [0]\n",
      " [0]\n",
      " [0]\n",
      " [0]\n",
      " [0]\n",
      " [0]\n",
      " [0]\n",
      " [0]\n",
      " [0]\n",
      " [0]\n",
      " [0]\n",
      " [0]\n",
      " [0]\n",
      " [0]\n",
      " [0]\n",
      " [0]\n",
      " [0]\n",
      " [0]\n",
      " [0]\n",
      " [0]\n",
      " [0]\n",
      " [0]\n",
      " [0]\n",
      " [0]\n",
      " [0]\n",
      " [0]\n",
      " [0]\n",
      " [0]\n",
      " [0]\n",
      " [0]\n",
      " [1]\n",
      " [0]\n",
      " [0]\n",
      " [0]\n",
      " [0]\n",
      " [0]\n",
      " [0]\n",
      " [0]\n",
      " [0]\n",
      " [0]\n",
      " [0]\n",
      " [0]\n",
      " [0]\n",
      " [0]\n",
      " [0]\n",
      " [0]]\n"
     ]
    }
   ],
   "source": [
    "# Plot the loss track\n",
    "plt.plot(loss_track)\n",
    "plt.title('Loss Track Over Iterations')\n",
    "plt.xlabel('Iteration')\n",
    "plt.ylabel('Loss')\n",
    "plt.show()\n",
    "\n",
    "# Print the final output\n",
    "print(\"Final output:\", nn.output)"
   ]
  },
  {
   "cell_type": "markdown",
   "metadata": {
    "id": "soUGuMftc3ja"
   },
   "source": [
    "The decrease in loss suggests that the neural network is learning from the data and improving its predictions.\n",
    "Analysis of the Loss Track\n",
    "\n",
    "1.\tInitial High Loss: The loss starts at a high value, which is expected since the weights are randomly initialized.\n",
    "2.\tSteep Decrease: The loss decreases steeply during the initial iterations, indicating rapid learning.\n",
    "3.\tPlateauing: As the iterations progress, the loss decreases more slowly and begins to plateau. This behavior is typical as the network converges to a solution.\n",
    "\n",
    "Overall Satisfaction with the Training Method\n",
    "\n",
    "•\tConvergence: The loss plot shows a clear convergence trend, which is a positive sign.  \n",
    "\n",
    "•\tStability: The loss decreases smoothly without erratic jumps, indicating stable learnin"
   ]
  },
  {
   "cell_type": "markdown",
   "metadata": {
    "id": "iO0eImMmdWZm"
   },
   "source": [
    "#Q I :\n",
    "Define another class called train_NN identical to the original one, and add another input variable to the init function called size_train, which is a number that receives a value between 0-1, according to which x is randomly divided into train and test, where the relative part of the set train is size_train. Make sure that the department trains the network only on the train, and the dimensions of all the relevant variables accordingly. Finally, use the feedforward function to predict the test set\n",
    "and print the resulting MCC. Why would we prefer to use MCC over the loss to evaluate the model?"
   ]
  },
  {
   "cell_type": "code",
   "execution_count": 74,
   "metadata": {
    "colab": {
     "base_uri": "https://localhost:8080/",
     "height": 819
    },
    "id": "JSpGc9npdWJ6",
    "outputId": "3d842280-1beb-4135-bbe1-8c20b5274710"
   },
   "outputs": [
    {
     "name": "stdout",
     "output_type": "stream",
     "text": [
      "Processed geno shape: (85, 86570)\n",
      "Processed labels shape: (85,)\n",
      "Matthews Correlation Coefficient (MCC): 0.00\n"
     ]
    },
    {
     "data": {
      "image/png": "[encoded data removed]",
      "text/plain": [
       "<Figure size 640x480 with 1 Axes>"
      ]
     },
     "metadata": {},
     "output_type": "display_data"
    },
    {
     "name": "stdout",
     "output_type": "stream",
     "text": [
      "Final output on test set: [[0]\n",
      " [0]\n",
      " [0]\n",
      " [0]\n",
      " [0]\n",
      " [0]\n",
      " [0]\n",
      " [0]\n",
      " [0]\n",
      " [0]\n",
      " [0]\n",
      " [0]\n",
      " [0]\n",
      " [0]\n",
      " [0]\n",
      " [0]\n",
      " [0]]\n"
     ]
    }
   ],
   "source": [
    "\n",
    "def sigmoid(z):\n",
    "    return 1 / (1 + np.exp(-z))\n",
    "\n",
    "def sigmoid_derivative(z):\n",
    "    return sigmoid(z) * (1 - sigmoid(z))\n",
    "\n",
    "class NeuralNetwork:\n",
    "    def __init__(self, x, y, middle_layer_dim, learning_rate):\n",
    "        self.x = self.preprocess_data(x)\n",
    "        self.y = self.preprocess_labels(y)\n",
    "        self.middle_layer_dim = middle_layer_dim\n",
    "        self.learning_rate = learning_rate\n",
    "\n",
    "        input_dim = self.x.shape[1]  # Number of features (p)\n",
    "        output_dim = 1  # Binary classification\n",
    "\n",
    "        # Initialize weights and biases\n",
    "        self.weights1 = np.random.randn(input_dim, middle_layer_dim)\n",
    "        self.weights2 = np.random.randn(middle_layer_dim, output_dim)\n",
    "        self.bias1 = np.random.randn(middle_layer_dim)\n",
    "        self.bias2 = np.random.randn(output_dim)\n",
    "\n",
    "    def preprocess_data(self, x):\n",
    "        if isinstance(x, pd.DataFrame):\n",
    "            processed_data = []\n",
    "            for row in x.values:\n",
    "                processed_row = []\n",
    "                for cell in row:\n",
    "                    try:\n",
    "                        processed_row.extend([float(value) for value in cell.split(',')])\n",
    "                    except ValueError:\n",
    "                        continue\n",
    "                if processed_row:\n",
    "                    processed_data.append(processed_row)\n",
    "            x = np.array(processed_data)\n",
    "        elif isinstance(x, np.ndarray) or isinstance(x, list):\n",
    "            x = np.array([np.array(row.split(','), dtype=float) if isinstance(row, str) else row for row in x])\n",
    "        return np.array(x, dtype=float)\n",
    "\n",
    "    def preprocess_labels(self, y):\n",
    "        if isinstance(y, pd.DataFrame) or isinstance(y, pd.Series):\n",
    "            y = y.iloc[:, -1]  # Assuming the last column contains the labels\n",
    "            y = y.apply(lambda label: 1 if 'French' in str(label) else 0).values  # Binarize labels\n",
    "        elif isinstance(y, np.ndarray) or isinstance(y, list):\n",
    "            y = np.array([1 if 'French' in str(label) else 0 for label in y])\n",
    "        return np.array(y, dtype=float)\n",
    "\n",
    "    def feedforward(self):\n",
    "        self.z1 = np.dot(self.x, self.weights1) + self.bias1\n",
    "        self.a1 = sigmoid(self.z1)\n",
    "        self.z2 = np.dot(self.a1, self.weights2) + self.bias2\n",
    "        self.a2 = sigmoid(self.z2)\n",
    "        self.output = (self.a2 > 0.5).astype(int)\n",
    "        return self.a2\n",
    "\n",
    "    def backpropagation(self):\n",
    "        error = self.a2 - self.y.reshape(-1, 1)\n",
    "        dz2 = error * sigmoid_derivative(self.z2)\n",
    "        dweights2 = np.dot(self.a1.T, dz2)\n",
    "        dbias2 = np.sum(dz2, axis=0)\n",
    "        dz1 = np.dot(dz2, self.weights2.T) * sigmoid_derivative(self.z1)\n",
    "        dweights1 = np.dot(self.x.T, dz1)\n",
    "        dbias1 = np.sum(dz1, axis=0)\n",
    "        return dweights1, dweights2, dbias1, dbias2\n",
    "\n",
    "    def train(self, simulations_n):\n",
    "        loss_track = np.zeros(simulations_n)\n",
    "\n",
    "        for i in range(simulations_n):\n",
    "            self.feedforward()\n",
    "            loss = np.sum((self.y.reshape(-1, 1) - self.a2) ** 2)\n",
    "            loss_track[i] = loss\n",
    "            dweights1, dweights2, dbias1, dbias2 = self.backpropagation()\n",
    "            self.weights1 -= self.learning_rate * dweights1\n",
    "            self.weights2 -= self.learning_rate * dweights2\n",
    "            self.bias1 -= self.learning_rate * dbias1\n",
    "            self.bias2 -= self.learning_rate * dbias2\n",
    "\n",
    "        return loss_track\n",
    "\n",
    "class train_NN(NeuralNetwork):\n",
    "    def __init__(self, x, y, middle_layer_dim, learning_rate, size_train):\n",
    "        self.size_train = size_train\n",
    "\n",
    "        # Split the data into training and testing sets\n",
    "        x_train, x_test, y_train, y_test = train_test_split(x, y, train_size=size_train, random_state=42)\n",
    "\n",
    "        # Preprocess the training and testing data\n",
    "        self.x_train = self.preprocess_data(x_train)\n",
    "        self.x_test = self.preprocess_data(x_test)\n",
    "        self.y_train = self.preprocess_labels(y_train)\n",
    "        self.y_test = self.preprocess_labels(y_test)\n",
    "\n",
    "        super().__init__(self.x_train, self.y_train, middle_layer_dim, learning_rate)\n",
    "\n",
    "    def train(self, simulations_n):\n",
    "        loss_track = np.zeros(simulations_n)\n",
    "\n",
    "        for i in range(simulations_n):\n",
    "            self.feedforward()\n",
    "            loss = np.sum((self.y.reshape(-1, 1) - self.a2) ** 2)\n",
    "            loss_track[i] = loss\n",
    "            dweights1, dweights2, dbias1, dbias2 = self.backpropagation()\n",
    "            self.weights1 -= self.learning_rate * dweights1\n",
    "            self.weights2 -= self.learning_rate * dweights2\n",
    "            self.bias1 -= self.learning_rate * dbias1\n",
    "            self.bias2 -= self.learning_rate * dbias2\n",
    "\n",
    "        return loss_track\n",
    "\n",
    "    def evaluate(self):\n",
    "        # Predict on the test set\n",
    "        self.x, self.y = self.x_test, self.y_test\n",
    "        self.feedforward()\n",
    "        mcc = matthews_corrcoef(self.y_test, self.output)\n",
    "        return mcc\n",
    "\n",
    "# Load the data\n",
    "geno_path = '/content/drive/MyDrive/geno_6'\n",
    "ind_path = '/content/drive/MyDrive/ind_6'\n",
    "\n",
    "# Assuming the files are in a tab-separated format\n",
    "geno = pd.read_csv(geno_path, sep='\\t', header=None)\n",
    "ind = pd.read_csv(ind_path, sep='\\t', header=None)\n",
    "\n",
    "# Preprocess the data\n",
    "def preprocess_geno(geno_df):\n",
    "    if isinstance(geno_df, pd.DataFrame):\n",
    "        processed_data = []\n",
    "        for row in geno_df.values:\n",
    "            processed_row = []\n",
    "            for cell in row:\n",
    "                try:\n",
    "                    processed_row.extend([float(value) for value in cell.split(',')])\n",
    "                except ValueError:\n",
    "                    continue\n",
    "            if processed_row:\n",
    "                processed_data.append(processed_row)\n",
    "        return np.array(processed_data)\n",
    "    elif isinstance(geno_df, np.ndarray) or isinstance(geno_df, list):\n",
    "        return np.array([np.array(row.split(','), dtype=float) if isinstance(row, str) else row for row in geno_df])\n",
    "\n",
    "def preprocess_ind(ind_df):\n",
    "    return np.array([1 if 'French' in str(label) else 0 for label in ind_df.iloc[:, -1]])\n",
    "\n",
    "geno = preprocess_geno(geno)\n",
    "labels = preprocess_ind(ind)\n",
    "\n",
    "# Debugging: Print shapes of processed geno and labels\n",
    "print(f\"Processed geno shape: {geno.shape}\")\n",
    "print(f\"Processed labels shape: {labels.shape}\")\n",
    "\n",
    "# Initialize and train the neural network with train-test split\n",
    "nn = train_NN(geno, labels, middle_layer_dim=8, learning_rate=0.01, size_train=0.8)\n",
    "loss_track = nn.train(simulations_n=100)\n",
    "\n",
    "# Evaluate the model\n",
    "mcc = nn.evaluate()\n",
    "print(f\"Matthews Correlation Coefficient (MCC): {mcc:.2f}\")\n",
    "\n",
    "# Plot the loss track\n",
    "plt.plot(loss_track)\n",
    "plt.title('Loss Track Over Iterations')\n",
    "plt.xlabel('Iteration')\n",
    "plt.ylabel('Loss')\n",
    "plt.show()\n",
    "\n",
    "# Print the final output\n",
    "print(\"Final output on test set:\", nn.output)"
   ]
  },
  {
   "cell_type": "markdown",
   "metadata": {
    "id": "6psahPtZgExj"
   },
   "source": [
    "Why Use MCC Over Loss to Evaluate the Model?\n",
    "\n",
    "The Matthews Correlation Coefficient (MCC) is preferred over loss for evaluating the model because it provides a more balanced measure by taking into account true and false positives and negatives. MCC is especially useful for binary classification problems with imbalanced classes. It ranges from -1 to 1, where:\n",
    "\n",
    "•\t1 indicates perfect prediction,\n",
    "•\t0 indicates no better than random prediction,\n",
    "•\t-1 indicates total disagreement between prediction and observation.\n",
    "\n",
    "This balanced measure ensures that both false positives and false negatives are considered, giving a comprehensive evaluation of the model’s performance."
   ]
  },
  {
   "cell_type": "markdown",
   "metadata": {
    "id": "-TaFxUEpgtMw"
   },
   "source": [
    "#Q J:\n",
    "Try this with several different values ​​of size_train (for example: 0.5, 0.9, 0.75). And discuss the results."
   ]
  },
  {
   "cell_type": "code",
   "execution_count": 75,
   "metadata": {
    "colab": {
     "base_uri": "https://localhost:8080/",
     "height": 1000
    },
    "id": "a6jqKcYogm_4",
    "outputId": "28196a16-7c63-40fe-e979-50d96c14e719"
   },
   "outputs": [
    {
     "name": "stdout",
     "output_type": "stream",
     "text": [
      "\n",
      "Training with size_train = 0.5\n"
     ]
    },
    {
     "name": "stderr",
     "output_type": "stream",
     "text": [
      "<ipython-input-75-64f17c370b55>:8: RuntimeWarning: overflow encountered in exp\n",
      "  return 1 / (1 + np.exp(-z))\n"
     ]
    },
    {
     "name": "stdout",
     "output_type": "stream",
     "text": [
      "Matthews Correlation Coefficient (MCC): 0.00\n"
     ]
    },
    {
     "name": "stderr",
     "output_type": "stream",
     "text": [
      "<ipython-input-75-64f17c370b55>:8: RuntimeWarning: overflow encountered in exp\n",
      "  return 1 / (1 + np.exp(-z))\n"
     ]
    },
    {
     "name": "stdout",
     "output_type": "stream",
     "text": [
      "\n",
      "Training with size_train = 0.75\n",
      "Matthews Correlation Coefficient (MCC): 0.00\n",
      "\n",
      "Training with size_train = 0.9\n"
     ]
    },
    {
     "name": "stderr",
     "output_type": "stream",
     "text": [
      "<ipython-input-75-64f17c370b55>:8: RuntimeWarning: overflow encountered in exp\n",
      "  return 1 / (1 + np.exp(-z))\n"
     ]
    },
    {
     "name": "stdout",
     "output_type": "stream",
     "text": [
      "Matthews Correlation Coefficient (MCC): 0.00\n"
     ]
    },
    {
     "data": {
      "image/png": "[encoded data removed]",
      "text/plain": [
       "<Figure size 640x480 with 1 Axes>"
      ]
     },
     "metadata": {},
     "output_type": "display_data"
    },
    {
     "name": "stdout",
     "output_type": "stream",
     "text": [
      "\n",
      "Results for size_train = 0.5:\n",
      "Matthews Correlation Coefficient (MCC): 0.00\n",
      "Final output on test set:\n",
      "[30.70023737 29.37361989 28.00320763 26.45293296 24.72246239 22.82726721\n",
      " 20.80305093 18.70636332 16.60893485 14.58446378 12.6380208  10.83338204\n",
      "  9.17672771  7.91080758  6.84979522  5.96657765  5.23275801  4.62205852\n",
      "  4.11176717  3.68301463  3.3204748   3.01184885  2.7473194   2.51905696\n",
      "  2.32080529  2.14754647  1.99523604  1.86059598  1.74095368  1.63411689\n",
      "  1.53827641  1.4519302   1.37382392  1.30290418  1.23828146  1.17920075\n",
      "  1.12501794  1.07518093  1.0292143   0.98670691  0.94730168  0.91068729\n",
      "  0.87659129  0.84477435  0.81502556  0.7871584   0.76100742  0.73642545\n",
      "  0.71328115  0.69145702  0.67084767  0.6513583   0.63290348  0.61540601\n",
      "  0.59879597  0.58300993  0.56799021  0.55368423  0.54004403  0.52702574\n",
      "  0.51458915  0.50269738  0.49131654  0.48041541  0.46996522  0.4599394\n",
      "  0.45031338  0.44106442  0.43217144  0.42361484  0.41537644  0.4074393\n",
      "  0.39978764  0.39240676  0.3852829   0.37840323  0.37175572  0.36532912\n",
      "  0.35911287  0.35309708  0.34727243  0.34163018  0.3361621   0.33086043\n",
      "  0.32571788  0.32072756  0.31588294  0.3111779   0.30660661  0.30216359\n",
      "  0.29784362  0.29364177  0.28955336  0.28557397  0.28169938  0.27792558\n",
      "  0.27424878  0.27066535  0.26717187  0.26376504]\n",
      "\n",
      "Results for size_train = 0.75:\n",
      "Matthews Correlation Coefficient (MCC): 0.00\n",
      "Final output on test set:\n",
      "[20.09502466 14.58242188 10.73999807  8.12040494  6.34229083  5.10075468\n",
      "  4.08231776  3.45728348  2.98109096  2.60903536  2.31199181  2.0703896\n",
      "  1.87070327  1.7033452   1.56136292  1.43961138  1.33421319  1.24219827\n",
      "  1.16125787  1.08957342  1.02569512  0.96845448  0.91690031  0.87025119\n",
      "  0.82785978  0.78918567  0.75377444  0.72124149  0.69125926  0.66354721\n",
      "  0.63786377  0.61399986  0.59177371  0.57102659  0.55161928  0.53342923\n",
      "  0.51634817  0.50028009  0.48513957  0.47085042  0.45734441  0.44456032\n",
      "  0.43244306  0.42094293  0.41001496  0.3996184   0.38971622  0.38027471\n",
      "  0.37126311  0.36265331  0.35441956  0.34653824  0.33898763  0.33174776\n",
      "  0.32480018  0.3181279   0.31171516  0.3055474   0.2996111   0.2938937\n",
      "  0.28838354  0.28306974  0.27794218  0.27299141  0.2682086   0.26358549\n",
      "  0.25911434  0.25478792  0.25059942  0.24654247  0.24261105  0.23879953\n",
      "  0.2351026   0.23151524  0.22803273  0.22465062  0.22136468  0.21817094\n",
      "  0.21506564  0.2120452   0.20910624  0.20624556  0.20346013  0.20074704\n",
      "  0.19810357  0.1955271   0.19301516  0.19056539  0.18817553  0.18584346\n",
      "  0.18356712  0.18134457  0.17917395  0.17705349  0.1749815   0.17295634\n",
      "  0.17097648  0.16904043  0.16714677  0.16529414]\n",
      "\n",
      "Results for size_train = 0.9:\n",
      "Matthews Correlation Coefficient (MCC): 0.00\n",
      "Final output on test set:\n",
      "[57.85269581 54.86586498 51.18200349 46.67849702 41.28626884 35.07817658\n",
      " 28.39007335 21.87117925 16.26579452 11.93550978  8.410728    5.81380019\n",
      "  4.4717104   3.63497449  3.17848181  2.8120019   2.51310316  2.26583107\n",
      "  2.05864318  1.8830477   1.7326962   1.60277055  1.48956233  1.39017994\n",
      "  1.30234145  1.22422599  1.15436563  1.09156577  1.0348457   0.98339373\n",
      "  0.93653302  0.89369521  0.85439989  0.81823856  0.78486186  0.75396942\n",
      "  0.7253017   0.6986334   0.67376805  0.65053363  0.62877893  0.60837054\n",
      "  0.58919034  0.5711334   0.55410621  0.53802519  0.52281542  0.50840957\n",
      "  0.49474694  0.48177273  0.4694373   0.45769561  0.44650668  0.43583318\n",
      "  0.42564101  0.41589898  0.40657848  0.39765328  0.38909921  0.38089404\n",
      "  0.37301724  0.36544985  0.3581743   0.35117435  0.34443488  0.33794189\n",
      "  0.33168232  0.32564402  0.31981566  0.31418665  0.3087471   0.30348777\n",
      "  0.29839999  0.29347562  0.28870704  0.28408709  0.27960903  0.27526652\n",
      "  0.27105359  0.26696461  0.26299427  0.25913756  0.25538973  0.2517463\n",
      "  0.24820303  0.24475591  0.24140113  0.23813507  0.23495431  0.2318556\n",
      "  0.22883585  0.2258921   0.22302158  0.2202216   0.21748965  0.21482329\n",
      "  0.21222023  0.20967827  0.2071953   0.20476932]\n"
     ]
    }
   ],
   "source": [
    "import numpy as np\n",
    "import pandas as pd\n",
    "from sklearn.model_selection import train_test_split\n",
    "from sklearn.metrics import matthews_corrcoef\n",
    "import matplotlib.pyplot as plt\n",
    "\n",
    "def sigmoid(z):\n",
    "    return 1 / (1 + np.exp(-z))\n",
    "\n",
    "def sigmoid_derivative(z):\n",
    "    return sigmoid(z) * (1 - sigmoid(z))\n",
    "\n",
    "class NeuralNetwork:\n",
    "    def __init__(self, x, y, middle_layer_dim, learning_rate):\n",
    "        self.x = self.preprocess_data(x)\n",
    "        self.y = self.preprocess_labels(y)\n",
    "        self.middle_layer_dim = middle_layer_dim\n",
    "        self.learning_rate = learning_rate\n",
    "\n",
    "        input_dim = self.x.shape[1]  # Number of features (p)\n",
    "        output_dim = 1  # Binary classification\n",
    "\n",
    "        # Initialize weights and biases\n",
    "        self.weights1 = np.random.randn(input_dim, middle_layer_dim)\n",
    "        self.weights2 = np.random.randn(middle_layer_dim, output_dim)\n",
    "        self.bias1 = np.random.randn(middle_layer_dim)\n",
    "        self.bias2 = np.random.randn(output_dim)\n",
    "\n",
    "    def preprocess_data(self, x):\n",
    "        if isinstance(x, pd.DataFrame):\n",
    "            processed_data = []\n",
    "            for row in x.values:\n",
    "                processed_row = []\n",
    "                for cell in row:\n",
    "                    try:\n",
    "                        processed_row.extend([float(value) for value in cell.split(',')])\n",
    "                    except ValueError:\n",
    "                        continue\n",
    "                if processed_row:\n",
    "                    processed_data.append(processed_row)\n",
    "            x = np.array(processed_data)\n",
    "        elif isinstance(x, np.ndarray) or isinstance(x, list):\n",
    "            x = np.array([np.array(row.split(','), dtype=float) if isinstance(row, str) else row for row in x])\n",
    "        return np.array(x, dtype=float)\n",
    "\n",
    "    def preprocess_labels(self, y):\n",
    "        if isinstance(y, pd.DataFrame) or isinstance(y, pd.Series):\n",
    "            y = y.iloc[:, -1]  # Assuming the last column contains the labels\n",
    "            y = y.apply(lambda label: 1 if 'French' in str(label) else 0).values  # Binarize labels\n",
    "        elif isinstance(y, np.ndarray) or isinstance(y, list):\n",
    "            y = np.array([1 if 'French' in str(label) else 0 for label in y])\n",
    "        return np.array(y, dtype=float)\n",
    "\n",
    "    def feedforward(self):\n",
    "        self.z1 = np.dot(self.x, self.weights1) + self.bias1\n",
    "        self.a1 = sigmoid(self.z1)\n",
    "        self.z2 = np.dot(self.a1, self.weights2) + self.bias2\n",
    "        self.a2 = sigmoid(self.z2)\n",
    "        self.output = (self.a2 > 0.5).astype(int)\n",
    "        return self.a2\n",
    "\n",
    "    def backpropagation(self):\n",
    "        error = self.a2 - self.y.reshape(-1, 1)\n",
    "        dz2 = error * sigmoid_derivative(self.z2)\n",
    "        dweights2 = np.dot(self.a1.T, dz2)\n",
    "        dbias2 = np.sum(dz2, axis=0)\n",
    "        dz1 = np.dot(dz2, self.weights2.T) * sigmoid_derivative(self.z1)\n",
    "        dweights1 = np.dot(self.x.T, dz1)\n",
    "        dbias1 = np.sum(dz1, axis=0)\n",
    "        return dweights1, dweights2, dbias1, dbias2\n",
    "\n",
    "    def train(self, simulations_n):\n",
    "        loss_track = np.zeros(simulations_n)\n",
    "\n",
    "        for i in range(simulations_n):\n",
    "            self.feedforward()\n",
    "            loss = np.sum((self.y.reshape(-1, 1) - self.a2) ** 2)\n",
    "            loss_track[i] = loss\n",
    "            dweights1, dweights2, dbias1, dbias2 = self.backpropagation()\n",
    "            self.weights1 -= self.learning_rate * dweights1\n",
    "            self.weights2 -= self.learning_rate * dweights2\n",
    "            self.bias1 -= self.learning_rate * dbias1\n",
    "            self.bias2 -= self.learning_rate * dbias2\n",
    "\n",
    "        return loss_track\n",
    "\n",
    "class train_NN(NeuralNetwork):\n",
    "    def __init__(self, x, y, middle_layer_dim, learning_rate, size_train):\n",
    "        self.size_train = size_train\n",
    "\n",
    "        # Split the data into training and testing sets\n",
    "        x_train, x_test, y_train, y_test = train_test_split(x, y, train_size=size_train, random_state=42)\n",
    "\n",
    "        # Preprocess the training and testing data\n",
    "        self.x_train = self.preprocess_data(x_train)\n",
    "        self.x_test = self.preprocess_data(x_test)\n",
    "        self.y_train = self.preprocess_labels(y_train)\n",
    "        self.y_test = self.preprocess_labels(y_test)\n",
    "\n",
    "        super().__init__(self.x_train, self.y_train, middle_layer_dim, learning_rate)\n",
    "\n",
    "    def train(self, simulations_n):\n",
    "        loss_track = np.zeros(simulations_n)\n",
    "\n",
    "        for i in range(simulations_n):\n",
    "            self.feedforward()\n",
    "            loss = np.sum((self.y.reshape(-1, 1) - self.a2) ** 2)\n",
    "            loss_track[i] = loss\n",
    "            dweights1, dweights2, dbias1, dbias2 = self.backpropagation()\n",
    "            self.weights1 -= self.learning_rate * dweights1\n",
    "            self.weights2 -= self.learning_rate * dweights2\n",
    "            self.bias1 -= self.learning_rate * dbias1\n",
    "            self.bias2 -= self.learning_rate * dbias2\n",
    "\n",
    "        return loss_track\n",
    "\n",
    "    def evaluate(self):\n",
    "        # Predict on the test set\n",
    "        self.x, self.y = self.x_test, self.y_test\n",
    "        self.feedforward()\n",
    "        mcc = matthews_corrcoef(self.y_test, self.output)\n",
    "        return mcc\n",
    "\n",
    "# Load the data\n",
    "geno_path = '/content/drive/MyDrive/geno_6'\n",
    "ind_path = '/content/drive/MyDrive/ind_6'\n",
    "\n",
    "# Assuming the files are in a tab-separated format\n",
    "geno = pd.read_csv(geno_path, sep='\\t', header=None)\n",
    "ind = pd.read_csv(ind_path, sep='\\t', header=None)\n",
    "\n",
    "# Preprocess the data\n",
    "def preprocess_geno(geno_df):\n",
    "    if isinstance(geno_df, pd.DataFrame):\n",
    "        processed_data = []\n",
    "        for row in geno_df.values:\n",
    "            processed_row = []\n",
    "            for cell in row:\n",
    "                try:\n",
    "                    processed_row.extend([float(value) for value in cell.split(',')])\n",
    "                except ValueError:\n",
    "                    continue\n",
    "            if processed_row:\n",
    "                processed_data.append(processed_row)\n",
    "        return np.array(processed_data)\n",
    "    elif isinstance(geno_df, np.ndarray) or isinstance(geno_df, list):\n",
    "        return np.array([np.array(row.split(','), dtype=float) if isinstance(row, str) else row for row in geno_df])\n",
    "\n",
    "def preprocess_ind(ind_df):\n",
    "    return np.array([1 if 'French' in str(label) else 0 for label in ind_df.iloc[:, -1]])\n",
    "\n",
    "geno = preprocess_geno(geno)\n",
    "labels = preprocess_ind(ind)\n",
    "\n",
    "# Function to train and evaluate the model with different size_train values\n",
    "def train_and_evaluate(size_train):\n",
    "    print(f\"\\nTraining with size_train = {size_train}\")\n",
    "    nn = train_NN(geno, labels, middle_layer_dim=8, learning_rate=0.01, size_train=size_train)\n",
    "    loss_track = nn.train(simulations_n=100)\n",
    "    mcc = nn.evaluate()\n",
    "    print(f\"Matthews Correlation Coefficient (MCC): {mcc:.2f}\")\n",
    "\n",
    "    # Plot the loss track\n",
    "    plt.plot(loss_track, label=f'size_train={size_train}')\n",
    "    plt.title('Loss Track Over Iterations')\n",
    "    plt.xlabel('Iteration')\n",
    "    plt.ylabel('Loss')\n",
    "    plt.legend()\n",
    "    return loss_track, mcc\n",
    "\n",
    "# Train and evaluate with different size_train values\n",
    "size_train_values = [0.5, 0.75, 0.9]\n",
    "results = {}\n",
    "for size_train in size_train_values:\n",
    "    loss_track, mcc = train_and_evaluate(size_train)\n",
    "    results[size_train] = {'loss_track': loss_track, 'mcc': mcc}\n",
    "\n",
    "plt.show()\n",
    "\n",
    "# Print the final output for each size_train\n",
    "for size_train, result in results.items():\n",
    "    print(f\"\\nResults for size_train = {size_train}:\")\n",
    "    print(f\"Matthews Correlation Coefficient (MCC): {result['mcc']:.2f}\")\n",
    "    print(f\"Final output on test set:\\n{result['loss_track']}\")"
   ]
  },
  {
   "cell_type": "code",
   "execution_count": null,
   "metadata": {
    "id": "gbwM1Km3bSxt"
   },
   "outputs": [],
   "source": []
  },
  {
   "cell_type": "markdown",
   "metadata": {
    "id": "jK1337TAZPTd"
   },
   "source": []
  },
  {
   "cell_type": "markdown",
   "metadata": {
    "id": "a1HG5Shic7Z-"
   },
   "source": [
    "שאלה 2"
   ]
  },
  {
   "cell_type": "markdown",
   "metadata": {
    "id": "CKY9U9BGc5l7"
   },
   "source": [
    "סעיף א"
   ]
  },
  {
   "cell_type": "code",
   "execution_count": 1,
   "metadata": {
    "colab": {
     "base_uri": "https://localhost:8080/"
    },
    "id": "GfGUZqtec8fC",
    "outputId": "2e8f90a5-4f0a-4eab-c701-47c8efc86e8e"
   },
   "outputs": [
    {
     "name": "stdout",
     "output_type": "stream",
     "text": [
      "Downloading data from https://storage.googleapis.com/tensorflow/tf-keras-datasets/mnist.npz\n",
      "11490434/11490434 [==============================] - 0s 0us/step\n",
      "X_train shape: (60000, 28, 28)\n",
      "y_train shape: (60000,)\n",
      "X_test shape: (10000, 28, 28)\n",
      "y_test shape: (10000,)\n",
      "X_train shape after reshaping: (60000, 784)\n",
      "X_test shape after reshaping: (10000, 784)\n"
     ]
    }
   ],
   "source": [
    "# Import the necessary packages\n",
    "from keras.datasets import mnist\n",
    "import numpy as np\n",
    "\n",
    "# Load the MNIST data\n",
    "(X_train, y_train), (X_test, y_test) = mnist.load_data()\n",
    "\n",
    "# Print the shapes of the datasets\n",
    "print(\"X_train shape:\", X_train.shape)\n",
    "print(\"y_train shape:\", y_train.shape)\n",
    "print(\"X_test shape:\", X_test.shape)\n",
    "print(\"y_test shape:\", y_test.shape)\n",
    "\n",
    "# Flatten each 28x28 image into a vector of length 784\n",
    "X_train = X_train.reshape(X_train.shape[0], 28 * 28)\n",
    "X_test = X_test.reshape(X_test.shape[0], 28 * 28)\n",
    "\n",
    "# Print the shapes of the datasets after reshaping\n",
    "print(\"X_train shape after reshaping:\", X_train.shape)\n",
    "print(\"X_test shape after reshaping:\", X_test.shape)\n"
   ]
  },
  {
   "cell_type": "markdown",
   "metadata": {
    "id": "MzZ8vzJ6dlxt"
   },
   "source": [
    "סעיף ב"
   ]
  },
  {
   "cell_type": "code",
   "execution_count": 2,
   "metadata": {
    "colab": {
     "base_uri": "https://localhost:8080/",
     "height": 674
    },
    "id": "sHiWEKUMdn8l",
    "outputId": "e3185c00-acc2-4a3c-a2ba-1ad8e9c8d467"
   },
   "outputs": [
    {
     "data": {
      "image/png": "[encoded data removed]",
      "text/plain": [
       "<Figure size 1000x1000 with 16 Axes>"
      ]
     },
     "metadata": {},
     "output_type": "display_data"
    }
   ],
   "source": [
    "import matplotlib.pyplot as plt\n",
    "import random\n",
    "\n",
    "def display_image_from_vector(vector, label):\n",
    "    # Reshape the vector back to a 28x28 image\n",
    "    image = vector.reshape(28, 28)\n",
    "    plt.imshow(image, cmap='gray')\n",
    "    plt.title(f'Label: {label}')\n",
    "    plt.axis('off')\n",
    "\n",
    "# Function to display 16 random images from the dataset\n",
    "def display_random_images(X, y, num_images=16):\n",
    "    plt.figure(figsize=(10, 10))\n",
    "    indices = random.sample(range(X.shape[0]), num_images)\n",
    "    for i, idx in enumerate(indices):\n",
    "        plt.subplot(4, 4, i+1)\n",
    "        display_image_from_vector(X[idx], y[idx])\n",
    "    plt.tight_layout()\n",
    "    plt.show()\n",
    "\n",
    "# Display 16 random images from the training set\n",
    "display_random_images(X_train, y_train)\n"
   ]
  },
  {
   "cell_type": "markdown",
   "metadata": {
    "id": "IettPOa8dsxl"
   },
   "source": [
    "סעיף ג\n",
    "לאחר נרמול באמצעות חלוקה בטווח המקסימום של פיקסלים (0-255), נבנה שתי שכבות כמבוקש"
   ]
  },
  {
   "cell_type": "code",
   "execution_count": 3,
   "metadata": {
    "id": "R7sZ1Hc-dubQ"
   },
   "outputs": [],
   "source": [
    "from keras.models import Sequential\n",
    "from keras.layers import Dense\n",
    "from keras.utils import to_categorical\n",
    "\n",
    "# Normalize the input data\n",
    "X_train = X_train / 255.0\n",
    "X_test = X_test / 255.0\n",
    "\n",
    "# Convert the labels to one-hot encoding\n",
    "y_train = to_categorical(y_train, num_classes=10)\n",
    "y_test = to_categorical(y_test, num_classes=10)\n",
    "\n",
    "# Create the model\n",
    "model = Sequential()\n",
    "\n",
    "# Add the first dense layer with 512 neurons and relu activation\n",
    "model.add(Dense(512, activation='relu', input_shape=(784,)))\n"
   ]
  },
  {
   "cell_type": "markdown",
   "metadata": {
    "id": "pMvnLy8leaXc"
   },
   "source": [
    "מספר הנוירונים בשכבה השניה יתאים למספר המחלקות שאנו מעוניינים לחזות, דהיינו 10 מחלקות (כמספר הספרות).\n",
    "פונקציית האקטיבציה שנבחר בה היא\n",
    " softmax,\n",
    "  משום שהיא תתן הפלגות הסתברות על פנעי כל המחלקות אשר מסתכמת ב-1.\n"
   ]
  },
  {
   "cell_type": "code",
   "execution_count": 4,
   "metadata": {
    "colab": {
     "base_uri": "https://localhost:8080/"
    },
    "id": "lbXQ1qm3fAJk",
    "outputId": "b91a66bc-c82c-4949-82ac-5b979cd2c70c"
   },
   "outputs": [
    {
     "name": "stdout",
     "output_type": "stream",
     "text": [
      "Model: \"sequential\"\n",
      "_________________________________________________________________\n",
      " Layer (type)                Output Shape              Param #   \n",
      "=================================================================\n",
      " dense (Dense)               (None, 512)               401920    \n",
      "                                                                 \n",
      " dense_1 (Dense)             (None, 10)                5130      \n",
      "                                                                 \n",
      "=================================================================\n",
      "Total params: 407050 (1.55 MB)\n",
      "Trainable params: 407050 (1.55 MB)\n",
      "Non-trainable params: 0 (0.00 Byte)\n",
      "_________________________________________________________________\n"
     ]
    }
   ],
   "source": [
    "\n",
    "# Add the second dense layer with 10 neurons and softmax activation\n",
    "model.add(Dense(10, activation='softmax'))\n",
    "\n",
    "# Compile the model\n",
    "model.compile(optimizer='adam', loss='categorical_crossentropy', metrics=['accuracy'])\n",
    "\n",
    "# Print the summary of the model\n",
    "model.summary()"
   ]
  },
  {
   "cell_type": "markdown",
   "metadata": {
    "id": "o4QXj_CSfib8"
   },
   "source": [
    "סעיף ד"
   ]
  },
  {
   "cell_type": "code",
   "execution_count": 5,
   "metadata": {
    "colab": {
     "base_uri": "https://localhost:8080/"
    },
    "id": "L9LwNlaRfjfN",
    "outputId": "db3db64d-32f2-4c3e-a82b-7ec3eeadf085"
   },
   "outputs": [
    {
     "name": "stdout",
     "output_type": "stream",
     "text": [
      "Epoch 1/10\n",
      "1500/1500 [==============================] - 26s 16ms/step - loss: 0.2229 - accuracy: 0.9343 - val_loss: 0.1201 - val_accuracy: 0.9656\n",
      "Epoch 2/10\n",
      "1500/1500 [==============================] - 16s 10ms/step - loss: 0.0883 - accuracy: 0.9742 - val_loss: 0.0873 - val_accuracy: 0.9744\n",
      "Epoch 3/10\n",
      "1500/1500 [==============================] - 15s 10ms/step - loss: 0.0570 - accuracy: 0.9822 - val_loss: 0.0863 - val_accuracy: 0.9751\n",
      "Epoch 4/10\n",
      "1500/1500 [==============================] - 15s 10ms/step - loss: 0.0385 - accuracy: 0.9882 - val_loss: 0.0907 - val_accuracy: 0.9742\n",
      "Epoch 5/10\n",
      "1500/1500 [==============================] - 14s 10ms/step - loss: 0.0271 - accuracy: 0.9914 - val_loss: 0.0864 - val_accuracy: 0.9753\n",
      "Epoch 6/10\n",
      "1500/1500 [==============================] - 15s 10ms/step - loss: 0.0212 - accuracy: 0.9929 - val_loss: 0.0814 - val_accuracy: 0.9775\n",
      "Epoch 7/10\n",
      "1500/1500 [==============================] - 23s 15ms/step - loss: 0.0172 - accuracy: 0.9947 - val_loss: 0.0864 - val_accuracy: 0.9780\n",
      "Epoch 8/10\n",
      "1500/1500 [==============================] - 14s 10ms/step - loss: 0.0129 - accuracy: 0.9959 - val_loss: 0.1100 - val_accuracy: 0.9732\n",
      "Epoch 9/10\n",
      "1500/1500 [==============================] - 15s 10ms/step - loss: 0.0115 - accuracy: 0.9961 - val_loss: 0.1049 - val_accuracy: 0.9770\n",
      "Epoch 10/10\n",
      "1500/1500 [==============================] - 15s 10ms/step - loss: 0.0093 - accuracy: 0.9968 - val_loss: 0.1036 - val_accuracy: 0.9764\n",
      "313/313 [==============================] - 1s 3ms/step - loss: 0.0862 - accuracy: 0.9798\n",
      "Test accuracy: 0.9798\n"
     ]
    }
   ],
   "source": [
    "\n",
    "# Train the model\n",
    "model.fit(X_train, y_train, epochs=10, batch_size=32, validation_split=0.2)\n",
    "\n",
    "# Evaluate the model on the test set\n",
    "test_loss, test_accuracy = model.evaluate(X_test, y_test)\n",
    "\n",
    "# Print the accuracy index result\n",
    "print(f'Test accuracy: {test_accuracy:.4f}')\n"
   ]
  },
  {
   "cell_type": "markdown",
   "metadata": {
    "id": "0yMJ-OEkZQ2C"
   },
   "source": [
    "סעיף ה"
   ]
  },
  {
   "cell_type": "markdown",
   "metadata": {
    "id": "XozXdMT3apsA"
   },
   "source": [
    "נוסיף את שכבת\n",
    "`dropout`\n"
   ]
  },
  {
   "cell_type": "markdown",
   "metadata": {
    "id": "ljOlNnfxa04u"
   },
   "source": [
    "על מנת למנוע over fitting"
   ]
  },
  {
   "cell_type": "markdown",
   "metadata": {
    "id": "V0n2zgUvdjb-"
   },
   "source": [
    "באמצעות הגדרה אקראית של חלק מיחידות הקלט ל-0 במהלך אימון המודל."
   ]
  },
  {
   "cell_type": "code",
   "execution_count": 6,
   "metadata": {
    "colab": {
     "base_uri": "https://localhost:8080/"
    },
    "id": "Wgf0Gd7ddsp7",
    "outputId": "122781c4-4201-467c-fb49-d2564b22daf8"
   },
   "outputs": [
    {
     "name": "stdout",
     "output_type": "stream",
     "text": [
      "Model: \"sequential_1\"\n",
      "_________________________________________________________________\n",
      " Layer (type)                Output Shape              Param #   \n",
      "=================================================================\n",
      " dense_2 (Dense)             (None, 512)               401920    \n",
      "                                                                 \n",
      " dropout (Dropout)           (None, 512)               0         \n",
      "                                                                 \n",
      " dense_3 (Dense)             (None, 10)                5130      \n",
      "                                                                 \n",
      "=================================================================\n",
      "Total params: 407050 (1.55 MB)\n",
      "Trainable params: 407050 (1.55 MB)\n",
      "Non-trainable params: 0 (0.00 Byte)\n",
      "_________________________________________________________________\n",
      "Epoch 1/10\n",
      "1500/1500 [==============================] - 19s 12ms/step - loss: 0.2965 - accuracy: 0.9111 - val_loss: 0.1321 - val_accuracy: 0.9618\n",
      "Epoch 2/10\n",
      "1500/1500 [==============================] - 18s 12ms/step - loss: 0.1482 - accuracy: 0.9542 - val_loss: 0.1052 - val_accuracy: 0.9692\n",
      "Epoch 3/10\n",
      "1500/1500 [==============================] - 19s 13ms/step - loss: 0.1147 - accuracy: 0.9643 - val_loss: 0.0886 - val_accuracy: 0.9733\n",
      "Epoch 4/10\n",
      "1500/1500 [==============================] - 17s 11ms/step - loss: 0.1008 - accuracy: 0.9686 - val_loss: 0.0893 - val_accuracy: 0.9726\n",
      "Epoch 5/10\n",
      "1500/1500 [==============================] - 16s 10ms/step - loss: 0.0872 - accuracy: 0.9720 - val_loss: 0.0798 - val_accuracy: 0.9767\n",
      "Epoch 6/10\n",
      "1500/1500 [==============================] - 17s 12ms/step - loss: 0.0766 - accuracy: 0.9758 - val_loss: 0.0810 - val_accuracy: 0.9768\n",
      "Epoch 7/10\n",
      "1500/1500 [==============================] - 15s 10ms/step - loss: 0.0685 - accuracy: 0.9774 - val_loss: 0.0868 - val_accuracy: 0.9775\n",
      "Epoch 8/10\n",
      "1500/1500 [==============================] - 17s 11ms/step - loss: 0.0629 - accuracy: 0.9794 - val_loss: 0.0842 - val_accuracy: 0.9763\n",
      "Epoch 9/10\n",
      "1500/1500 [==============================] - 18s 12ms/step - loss: 0.0595 - accuracy: 0.9810 - val_loss: 0.0777 - val_accuracy: 0.9803\n",
      "Epoch 10/10\n",
      "1500/1500 [==============================] - 16s 11ms/step - loss: 0.0518 - accuracy: 0.9828 - val_loss: 0.0782 - val_accuracy: 0.9792\n",
      "313/313 [==============================] - 1s 3ms/step - loss: 0.0709 - accuracy: 0.9807\n",
      "Test accuracy: 0.9807\n"
     ]
    }
   ],
   "source": [
    "\n",
    "from keras.layers import Dropout\n",
    "\n",
    "# Create the model\n",
    "model = Sequential()\n",
    "\n",
    "# Add the first dense layer with 512 neurons and relu activation\n",
    "model.add(Dense(512, activation='relu', input_shape=(784,)))\n",
    "\n",
    "# Add a Dropout layer with a dropout rate of 0.5\n",
    "model.add(Dropout(0.5))\n",
    "\n",
    "# Add the second dense layer with 10 neurons and softmax activation\n",
    "model.add(Dense(10, activation='softmax'))\n",
    "\n",
    "# Compile the model\n",
    "model.compile(optimizer='adam', loss='categorical_crossentropy', metrics=['accuracy'])\n",
    "\n",
    "# Print the summary of the model\n",
    "model.summary()\n",
    "\n",
    "# Train the model\n",
    "model.fit(X_train, y_train, epochs=10, batch_size=32, validation_split=0.2)\n",
    "\n",
    "# Evaluate the model on the test set\n",
    "test_loss, test_accuracy = model.evaluate(X_test, y_test)\n",
    "\n",
    "# Print the accuracy index result\n",
    "print(f'Test accuracy: {test_accuracy:.4f}')\n",
    "\n"
   ]
  },
  {
   "cell_type": "markdown",
   "metadata": {
    "id": "g1cHnPwlk98p"
   },
   "source": [
    "נראה שהוספת שכבה שיפרה את דיוק הבדיקה מ-97.98% ל-98.07%."
   ]
  },
  {
   "cell_type": "markdown",
   "metadata": {
    "id": "iI2RJ7AklMWK"
   },
   "source": [
    "אמנם, שימוש בשתי שכבות בלבד כמו  בסעיף ג נתן דיוק אימ ון גבוה יותר, אבל האימות הסופי נמוך יותר מאשר הוספת השכבה השלישית. זה מצביע על כך שמניעת התאמת-יתר (over-fitting)"
   ]
  },
  {
   "cell_type": "markdown",
   "metadata": {
    "id": "Q65U2OH8laVU"
   },
   "source": [
    "סייעה למודל לבצע הכללה טובה יותר."
   ]
  },
  {
   "cell_type": "markdown",
   "metadata": {
    "id": "me_ooXIGmCGS"
   },
   "source": [
    "כעת נוסיף עוד שכבה צפופנ עם 256 נוירונים ונפעיל\n",
    "relu\n",
    "בין השכבה הצפופה הראשונה לשכבת\n",
    "dropout"
   ]
  },
  {
   "cell_type": "code",
   "execution_count": 7,
   "metadata": {
    "colab": {
     "base_uri": "https://localhost:8080/"
    },
    "id": "NTRu1ldhZRmK",
    "outputId": "c182de15-6b1c-4686-b48f-42a4906252c1"
   },
   "outputs": [
    {
     "name": "stdout",
     "output_type": "stream",
     "text": [
      "Model: \"sequential_2\"\n",
      "_________________________________________________________________\n",
      " Layer (type)                Output Shape              Param #   \n",
      "=================================================================\n",
      " dense_4 (Dense)             (None, 512)               401920    \n",
      "                                                                 \n",
      " dense_5 (Dense)             (None, 256)               131328    \n",
      "                                                                 \n",
      " dropout_1 (Dropout)         (None, 256)               0         \n",
      "                                                                 \n",
      " dense_6 (Dense)             (None, 10)                2570      \n",
      "                                                                 \n",
      "=================================================================\n",
      "Total params: 535818 (2.04 MB)\n",
      "Trainable params: 535818 (2.04 MB)\n",
      "Non-trainable params: 0 (0.00 Byte)\n",
      "_________________________________________________________________\n",
      "Epoch 1/10\n",
      "1500/1500 [==============================] - 23s 14ms/step - loss: 0.2579 - accuracy: 0.9213 - val_loss: 0.1119 - val_accuracy: 0.9668\n",
      "Epoch 2/10\n",
      "1500/1500 [==============================] - 21s 14ms/step - loss: 0.1088 - accuracy: 0.9679 - val_loss: 0.0947 - val_accuracy: 0.9717\n",
      "Epoch 3/10\n",
      "1500/1500 [==============================] - 20s 13ms/step - loss: 0.0762 - accuracy: 0.9768 - val_loss: 0.0912 - val_accuracy: 0.9751\n",
      "Epoch 4/10\n",
      "1500/1500 [==============================] - 20s 14ms/step - loss: 0.0586 - accuracy: 0.9822 - val_loss: 0.0907 - val_accuracy: 0.9762\n",
      "Epoch 5/10\n",
      "1500/1500 [==============================] - 20s 13ms/step - loss: 0.0517 - accuracy: 0.9838 - val_loss: 0.0948 - val_accuracy: 0.9753\n",
      "Epoch 6/10\n",
      "1500/1500 [==============================] - 19s 13ms/step - loss: 0.0389 - accuracy: 0.9876 - val_loss: 0.0968 - val_accuracy: 0.9778\n",
      "Epoch 7/10\n",
      "1500/1500 [==============================] - 20s 13ms/step - loss: 0.0352 - accuracy: 0.9884 - val_loss: 0.1196 - val_accuracy: 0.9730\n",
      "Epoch 8/10\n",
      "1500/1500 [==============================] - 19s 13ms/step - loss: 0.0319 - accuracy: 0.9898 - val_loss: 0.1120 - val_accuracy: 0.9771\n",
      "Epoch 9/10\n",
      "1500/1500 [==============================] - 20s 14ms/step - loss: 0.0313 - accuracy: 0.9899 - val_loss: 0.1204 - val_accuracy: 0.9741\n",
      "Epoch 10/10\n",
      "1500/1500 [==============================] - 20s 14ms/step - loss: 0.0247 - accuracy: 0.9928 - val_loss: 0.1175 - val_accuracy: 0.9778\n",
      "313/313 [==============================] - 1s 4ms/step - loss: 0.1037 - accuracy: 0.9782\n",
      "Test accuracy: 0.9782\n"
     ]
    }
   ],
   "source": [
    "from keras.layers import Dense, Dropout\n",
    "\n",
    "# Create the model with an additional dense layer\n",
    "model = Sequential()\n",
    "\n",
    "# Add the first dense layer with 512 neurons and relu activation\n",
    "model.add(Dense(512, activation='relu', input_shape=(784,)))\n",
    "\n",
    "# Add an additional dense layer with 256 neurons and relu activation\n",
    "model.add(Dense(256, activation='relu'))\n",
    "\n",
    "# Add a Dropout layer with a dropout rate of 0.5\n",
    "model.add(Dropout(0.5))\n",
    "\n",
    "# Add the output dense layer with 10 neurons and softmax activation\n",
    "model.add(Dense(10, activation='softmax'))\n",
    "\n",
    "# Compile the model\n",
    "model.compile(optimizer='adam', loss='categorical_crossentropy', metrics=['accuracy'])\n",
    "\n",
    "# Print the summary of the model\n",
    "model.summary()\n",
    "\n",
    "# Train the model\n",
    "history = model.fit(X_train, y_train, epochs=10, batch_size=32, validation_split=0.2)\n",
    "\n",
    "# Evaluate the model on the test set\n",
    "test_loss, test_accuracy = model.evaluate(X_test, y_test)\n",
    "\n",
    "# Print the accuracy index result\n",
    "print(f'Test accuracy: {test_accuracy:.4f}')\n"
   ]
  },
  {
   "cell_type": "markdown",
   "metadata": {
    "id": "8DOTZkS4nzQh"
   },
   "source": [
    "נראה שהוספת השכבה הצפופה הובילה לדיוק גבוה יותר עבור האימון, אבל להפחתת האימות ודיוק הבדיקה. כתוצאה מכך נסיק שהוספת השכבה ה צפופה מתאימה את נתוני האימון במידה רבה מעט יותר מאשר ללא הוספת השכבה הצפופה.\n",
    "נסיק גם כי לא היה שיפור משמעותי ובהיבט של הכללת נתונים חדשים, המיודל נחלש."
   ]
  },
  {
   "cell_type": "markdown",
   "metadata": {
    "id": "wEgLbq9gohXi"
   },
   "source": [
    "סעיף ו"
   ]
  },
  {
   "cell_type": "markdown",
   "metadata": {
    "id": "wpVqp0MvpDz5"
   },
   "source": [
    "נשתמש ברשת השניה, עם שכבת ה-\n",
    "DROPOUT"
   ]
  },
  {
   "cell_type": "markdown",
   "metadata": {
    "id": "UQXTBkEoNb5V"
   },
   "source": []
  },
  {
   "cell_type": "code",
   "execution_count": 10,
   "metadata": {
    "colab": {
     "base_uri": "https://localhost:8080/",
     "height": 1000
    },
    "id": "HqpTCgEspMLa",
    "outputId": "66ec5c9a-dce6-4cd8-fca2-da97c66ab045"
   },
   "outputs": [
    {
     "name": "stdout",
     "output_type": "stream",
     "text": [
      "Epoch 1/20\n",
      "750/750 [==============================] - 14s 18ms/step - loss: 0.8482 - accuracy: 0.7370 - val_loss: 0.2710 - val_accuracy: 0.9194\n",
      "Epoch 2/20\n",
      "750/750 [==============================] - 11s 15ms/step - loss: 0.3487 - accuracy: 0.8991 - val_loss: 0.1904 - val_accuracy: 0.9452\n",
      "Epoch 3/20\n",
      "750/750 [==============================] - 12s 16ms/step - loss: 0.2536 - accuracy: 0.9256 - val_loss: 0.1531 - val_accuracy: 0.9561\n",
      "Epoch 4/20\n",
      "750/750 [==============================] - 12s 16ms/step - loss: 0.2002 - accuracy: 0.9413 - val_loss: 0.1286 - val_accuracy: 0.9619\n",
      "Epoch 5/20\n",
      "750/750 [==============================] - 12s 17ms/step - loss: 0.1668 - accuracy: 0.9502 - val_loss: 0.1138 - val_accuracy: 0.9669\n",
      "Epoch 6/20\n",
      "750/750 [==============================] - 12s 17ms/step - loss: 0.1415 - accuracy: 0.9578 - val_loss: 0.1046 - val_accuracy: 0.9690\n",
      "Epoch 7/20\n",
      "750/750 [==============================] - 12s 15ms/step - loss: 0.1238 - accuracy: 0.9625 - val_loss: 0.0980 - val_accuracy: 0.9697\n",
      "Epoch 8/20\n",
      "750/750 [==============================] - 12s 16ms/step - loss: 0.1087 - accuracy: 0.9675 - val_loss: 0.0926 - val_accuracy: 0.9715\n",
      "Epoch 9/20\n",
      "750/750 [==============================] - 12s 16ms/step - loss: 0.0959 - accuracy: 0.9717 - val_loss: 0.0875 - val_accuracy: 0.9728\n",
      "Epoch 10/20\n",
      "750/750 [==============================] - 11s 15ms/step - loss: 0.0847 - accuracy: 0.9748 - val_loss: 0.0854 - val_accuracy: 0.9742\n",
      "Epoch 11/20\n",
      "750/750 [==============================] - 12s 16ms/step - loss: 0.0767 - accuracy: 0.9772 - val_loss: 0.0805 - val_accuracy: 0.9773\n",
      "Epoch 12/20\n",
      "750/750 [==============================] - 12s 16ms/step - loss: 0.0700 - accuracy: 0.9788 - val_loss: 0.0808 - val_accuracy: 0.9766\n",
      "Epoch 13/20\n",
      "750/750 [==============================] - 13s 17ms/step - loss: 0.0617 - accuracy: 0.9817 - val_loss: 0.0775 - val_accuracy: 0.9773\n",
      "Epoch 14/20\n",
      "750/750 [==============================] - 12s 17ms/step - loss: 0.0579 - accuracy: 0.9827 - val_loss: 0.0765 - val_accuracy: 0.9778\n",
      "Epoch 15/20\n",
      "750/750 [==============================] - 12s 16ms/step - loss: 0.0525 - accuracy: 0.9841 - val_loss: 0.0768 - val_accuracy: 0.9778\n",
      "Epoch 16/20\n",
      "750/750 [==============================] - 12s 16ms/step - loss: 0.0484 - accuracy: 0.9849 - val_loss: 0.0747 - val_accuracy: 0.9783\n",
      "Epoch 17/20\n",
      "750/750 [==============================] - 12s 16ms/step - loss: 0.0434 - accuracy: 0.9865 - val_loss: 0.0767 - val_accuracy: 0.9776\n",
      "Epoch 18/20\n",
      "750/750 [==============================] - 11s 15ms/step - loss: 0.0407 - accuracy: 0.9874 - val_loss: 0.0747 - val_accuracy: 0.9783\n",
      "Epoch 19/20\n",
      "750/750 [==============================] - 11s 15ms/step - loss: 0.0371 - accuracy: 0.9879 - val_loss: 0.0766 - val_accuracy: 0.9797\n",
      "Epoch 20/20\n",
      "750/750 [==============================] - 12s 17ms/step - loss: 0.0353 - accuracy: 0.9888 - val_loss: 0.0734 - val_accuracy: 0.9795\n",
      "313/313 [==============================] - 1s 3ms/step - loss: 0.0640 - accuracy: 0.9815\n",
      "Test accuracy: 0.9815\n",
      "313/313 [==============================] - 1s 4ms/step\n"
     ]
    },
    {
     "data": {
      "image/png": "[encoded data removed]",
      "text/plain": [
       "<Figure size 1000x1000 with 16 Axes>"
      ]
     },
     "metadata": {},
     "output_type": "display_data"
    }
   ],
   "source": [
    "from keras.models import Sequential\n",
    "from keras.layers import Dense, Dropout\n",
    "from keras.optimizers import Adam\n",
    "from keras.datasets import mnist\n",
    "from keras.utils import to_categorical\n",
    "\n",
    "# Load the MNIST data\n",
    "(X_train, y_train), (X_test, y_test) = mnist.load_data()\n",
    "\n",
    "# Normalize the input data\n",
    "X_train = X_train / 255.0\n",
    "X_test = X_test / 255.0\n",
    "\n",
    "# Flatten each 28x28 image into a vector of length 784\n",
    "X_train = X_train.reshape(X_train.shape[0], 28 * 28)\n",
    "X_test = X_test.reshape(X_test.shape[0], 28 * 28)\n",
    "\n",
    "# Convert the labels to one-hot encoding\n",
    "y_train = to_categorical(y_train, num_classes=10)\n",
    "y_test = to_categorical(y_test, num_classes=10)\n",
    "\n",
    "# Create the model with additional layers and adjustments\n",
    "model = Sequential()\n",
    "model.add(Dense(512, activation='relu', input_shape=(784,)))\n",
    "model.add(Dropout(0.3))\n",
    "model.add(Dense(256, activation='relu'))\n",
    "model.add(Dropout(0.3))\n",
    "model.add(Dense(128, activation='relu'))\n",
    "model.add(Dropout(0.3))\n",
    "model.add(Dense(10, activation='softmax'))\n",
    "\n",
    "# Compile the model with a lower learning rate\n",
    "optimizer = Adam(learning_rate=0.0001)\n",
    "model.compile(optimizer=optimizer, loss='categorical_crossentropy', metrics=['accuracy'])\n",
    "\n",
    "# Train the model\n",
    "history = model.fit(X_train, y_train, epochs=20, batch_size=64, validation_split=0.2)\n",
    "\n",
    "# Evaluate the model on the test set\n",
    "test_loss, test_accuracy = model.evaluate(X_test, y_test)\n",
    "print(f'Test accuracy: {test_accuracy:.4f}')\n",
    "\n",
    "# Make predictions on the test set\n",
    "y_pred = model.predict(X_test)\n",
    "y_pred_classes = np.argmax(y_pred, axis=1)\n",
    "y_true = np.argmax(y_test, axis=1)\n",
    "\n",
    "# Identify misclassified images\n",
    "misclassified_indices = np.where(y_pred_classes != y_true)[0]\n",
    "\n",
    "# Function to display misclassified images\n",
    "def display_misclassified_images(X, y_true, y_pred_classes, misclassified_indices, num_images=16):\n",
    "    plt.figure(figsize=(10, 10))\n",
    "    for i, idx in enumerate(misclassified_indices[:num_images]):\n",
    "        plt.subplot(4, 4, i + 1)\n",
    "        plt.imshow(X[idx].reshape(28, 28), cmap='gray')\n",
    "        plt.title(f'True: {y_true[idx]}, Pred: {y_pred_classes[idx]}')\n",
    "        plt.axis('off')\n",
    "    plt.tight_layout()\n",
    "    plt.show()\n",
    "\n",
    "# Display the first 16 misclassified images\n",
    "display_misclassified_images(X_test, y_true, y_pred_classes, misclassified_indices)\n"
   ]
  },
  {
   "cell_type": "markdown",
   "metadata": {
    "id": "tW5y6jLjNeEK"
   },
   "source": [
    "סעיף ז"
   ]
  },
  {
   "cell_type": "markdown",
   "metadata": {
    "id": "c2hAlQ3KSZ70"
   },
   "source": [
    "על מנת לבנות מודל של רשת נוירונים, ראשית טענו את מערך הנתונים המבוקש, אחרי כן נרמלנו את נתוני הקלט באמצעות חלוקת ערכי הפיקסלים ב-255 שהוא טווח המקסימום של פיקסלים. שיטחנו כל תמ ונה בגודל 28*28 לאורך 784.\n",
    "לאחר מכן הצגנו מספר תמונות באקראיות עם סיווג נכון.\n",
    "לאחר מכן בנינו מודל עם שכבה צפיפות עם"
   ]
  },
  {
   "cell_type": "markdown",
   "metadata": {
    "id": "WWgUJB0TVvzb"
   },
   "source": [
    "512\n",
    "נוירונים\n"
   ]
  },
  {
   "cell_type": "markdown",
   "metadata": {
    "id": "8hUPrOKQV-YM"
   },
   "source": [
    "ועם פונקצייה\n",
    "RELU\n"
   ]
  },
  {
   "cell_type": "markdown",
   "metadata": {
    "id": "giGYHSeKWA_B"
   },
   "source": [
    "ואחרי כן הרכבנו את המודל ואימנו אותו על פני 10. הערכנו את המודל באמצעות תוצאת מדד הדיוק ובדיקת תוצאות האימון והבדיקה."
   ]
  },
  {
   "cell_type": "markdown",
   "metadata": {
    "id": "GlVbP4eMWMnS"
   },
   "source": [
    " מודל שני עם שכבת DROPOUT"
   ]
  },
  {
   "cell_type": "markdown",
   "metadata": {
    "id": "JWA3eW9RWRuy"
   },
   "source": [
    "בנינו מודל עם השכבות הקודמת וכעת הוספנו שכבת DROPOUT,\n",
    "אימנו את המודל ובחנו את תוצאותיו"
   ]
  },
  {
   "cell_type": "markdown",
   "metadata": {
    "id": "XJo-J9bsWcUf"
   },
   "source": [
    "לאחר מכן בנינו מודל זהה אך עם שכבה צפופה נוספת. בחננו את תוצאות כל המודלים"
   ]
  },
  {
   "cell_type": "markdown",
   "metadata": {
    "id": "fTWWTy2uWykD"
   },
   "source": [
    "לאחר מכן בחרנו את המודל אשר הציג תוצאה טובה ביותר ועבורו הצגנו את התמונות שהשיגו חיזוי שגוי"
   ]
  },
  {
   "cell_type": "code",
   "execution_count": null,
   "metadata": {
    "id": "UXz-dnfCoiRp"
   },
   "outputs": [],
   "source": []
  }
 ],
 "metadata": {
  "colab": {
   "provenance": []
  },
  "kernelspec": {
   "display_name": "Python 3 (ipykernel)",
   "language": "python",
   "name": "python3"
  },
  "language_info": {
   "codemirror_mode": {
    "name": "ipython",
    "version": 3
   },
   "file_extension": ".py",
   "mimetype": "text/x-python",
   "name": "python",
   "nbconvert_exporter": "python",
   "pygments_lexer": "ipython3",
   "version": "3.11.5"
  }
 },
 "nbformat": 4,
 "nbformat_minor": 1
}
